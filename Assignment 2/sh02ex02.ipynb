{
 "cells": [
  {
   "cell_type": "markdown",
   "metadata": {},
   "source": [
    "# Assignment 2.2 Motion Detection with Census-Matching\n",
    "---\n",
    "Group 3:\n",
    "* Jiye Lee\n",
    "* Eduardo Venegas Hernández\n",
    "---"
   ]
  },
  {
   "cell_type": "markdown",
   "metadata": {},
   "source": [
    "Import Libraries"
   ]
  },
  {
   "cell_type": "code",
   "execution_count": 2,
   "metadata": {},
   "outputs": [
    {
     "name": "stderr",
     "output_type": "stream",
     "text": [
      "\u001b[32m\u001b[1m   Resolving\u001b[22m\u001b[39m package versions...\n",
      "\u001b[32m\u001b[1m  No Changes\u001b[22m\u001b[39m to `~/.julia/environments/v1.8/Project.toml`\n",
      "\u001b[32m\u001b[1m  No Changes\u001b[22m\u001b[39m to `~/.julia/environments/v1.8/Manifest.toml`\n",
      "\u001b[32m\u001b[1m   Resolving\u001b[22m\u001b[39m package versions...\n",
      "\u001b[32m\u001b[1m  No Changes\u001b[22m\u001b[39m to `~/.julia/environments/v1.8/Project.toml`\n",
      "\u001b[32m\u001b[1m  No Changes\u001b[22m\u001b[39m to `~/.julia/environments/v1.8/Manifest.toml`\n",
      "\u001b[32m\u001b[1m   Resolving\u001b[22m\u001b[39m package versions...\n",
      "\u001b[32m\u001b[1m  No Changes\u001b[22m\u001b[39m to `~/.julia/environments/v1.8/Project.toml`\n",
      "\u001b[32m\u001b[1m  No Changes\u001b[22m\u001b[39m to `~/.julia/environments/v1.8/Manifest.toml`\n"
     ]
    }
   ],
   "source": [
    "import Pkg\n",
    "Pkg.add(\"Images\")\n",
    "Pkg.add(\"FileIO\")\n",
    "Pkg.add(\"Plots\")\n",
    "\n",
    "using Images\n",
    "using FileIO\n",
    "using Plots"
   ]
  },
  {
   "cell_type": "markdown",
   "metadata": {},
   "source": [
    "1. Apply the census transform (as implemented in task 1) to two subsequent images of a given sequence. Equal census values indicate the occurrence of identical local features"
   ]
  },
  {
   "cell_type": "code",
   "execution_count": 3,
   "metadata": {},
   "outputs": [
    {
     "data": {
      "text/plain": [
       "censustransform (generic function with 1 method)"
      ]
     },
     "execution_count": 3,
     "metadata": {},
     "output_type": "execute_result"
    }
   ],
   "source": [
    "function censustransform(img, kernel; epsilon=0.1)\n",
    "  # your code here\n",
    "\n",
    "  # create a new image with the same size as the input image of type UInt64\n",
    "  img_new = zeros(UInt64, size(img))\n",
    "  \n",
    "  # window is equal to size of kernel divided by 2 and floor\n",
    "  window = floor(Int, size(kernel,1)/2)\n",
    "\n",
    "  # loop over all pixels in the image\n",
    "  for i in 1+window:size(img,1) - window \n",
    "      for j in 1+window:size(img,2) - window\n",
    "        # get the value of the central pixel\n",
    "        central_pixel = img[i,j]\n",
    "\n",
    "        bit_string = \"\"\n",
    "\n",
    "        # iterate the kernel\n",
    "        for k in 1:size(kernel,1)\n",
    "          for l in 1:size(kernel,2)\n",
    "            # get the value of the neighboring pixel\n",
    "            if ((i-window+k - 1) == i && (j-window+l  - 1) == j) continue end\n",
    "            neighboring_pixel = img[i-window+k - 1,j-window+l  - 1]\n",
    "\n",
    "            # check if the neighboring pixel is darker than the central pixel\n",
    "            if neighboring_pixel < central_pixel - N0f8.(epsilon)\n",
    "              bit_string *= \"00\"\n",
    "            # check if the neighboring pixel is brighter than the central pixel\n",
    "            elseif neighboring_pixel > central_pixel + N0f8.(epsilon)\n",
    "              bit_string *= \"01\"\n",
    "            else\n",
    "              bit_string *= \"10\"\n",
    "            end\n",
    "          end\n",
    "        end\n",
    "        # bit string to integer\n",
    "        img_new[i,j] = parse(UInt64, bit_string[1:16], base=2)\n",
    "      end\n",
    "  end\n",
    "\n",
    "  # convert array to image\n",
    "  return img_new\n",
    "end"
   ]
  },
  {
   "cell_type": "markdown",
   "metadata": {},
   "source": [
    "2. Write a function findmatches(t1, t2; n=50, d=10) that finds matches between the descriptors at time points t1 and t2. The function should first identify possible matches (i.e., pairs of identical descriptor values). To avoid a computational blow-up, make sure that the matching is not done pixel-by-pixel. Instead, consider how you can find all matches in less then quadratic time. Explain your approach. To prevent accidental or uninformative matches, discard all census values that occur more often than n and discard all matches which indicate a motion distance of more than d=10 pixels in x or y direction. Record the remaining correspondences in a velocity space (4D matrix)."
   ]
  },
  {
   "cell_type": "code",
   "execution_count": 14,
   "metadata": {},
   "outputs": [
    {
     "data": {
      "text/plain": [
       "findmatches (generic function with 1 method)"
      ]
     },
     "execution_count": 14,
     "metadata": {},
     "output_type": "execute_result"
    }
   ],
   "source": [
    "# Write a function findmatches(t1, t2; n=50, d=10) that finds matches between the\n",
    "#   descriptors at time points t1 and t2. The function should first identify possible matches\n",
    "#   (i.e., pairs of identical descriptor values). To avoid a computational blow-up, make sure\n",
    "#   that the matching is not done pixel-by-pixel. Instead, consider how you can find all\n",
    "#   matches in less then quadratic time. Explain your approach. To prevent accidental\n",
    "#   or uninformative matches, discard all census values that occur more often than n and\n",
    "#   discard all matches which indicate a motion distance of more than d=10 pixels in x or\n",
    "#   y direction. Record the remaining correspondences in a velocity space (4D matrix).\n",
    "\n",
    "########################\n",
    "### HELPER FUNCTIONS ###\n",
    "########################\n",
    "\n",
    "function discardPixels(matrixImage, n, d)\n",
    "  # matrixImage is the census transform of an image with values of type UInt64\n",
    "  # n is the maximum number of occurances of a pixel value\n",
    "  # d is the maximum distance between two pixels\n",
    "\n",
    "  # discard all pixels that occur more than n times in matrixImage\n",
    "  # iterate the matrixImage image\n",
    "\n",
    "  dict = Dict{UInt64,Int64}()\n",
    "  for i in 1:size(matrixImage,1)\n",
    "    for j in 1:size(matrixImage,2)\n",
    "      # check if the pixel value is in the dictionary\n",
    "      if haskey(dict, matrixImage[i,j])\n",
    "        # if the pixel value is in the dictionary, increment the value\n",
    "        dict[matrixImage[i,j]] += 1\n",
    "      else\n",
    "        # if the pixel value is not in the dictionary, add it\n",
    "        dict[matrixImage[i,j]] = 1\n",
    "      end\n",
    "    end\n",
    "  end\n",
    "  \n",
    "  \n",
    "  # iterate the matrixImage image\n",
    "  for i in 1:size(matrixImage,1)\n",
    "    for j in 1:size(matrixImage,2)\n",
    "      # check if the pixel value is in the dictionary\n",
    "      if haskey(dict, matrixImage[i,j])\n",
    "        # if the pixel value is in the dictionary, check if the value is greater than n\n",
    "        if dict[matrixImage[i,j]] > n\n",
    "          # if the value is greater than n, set the pixel value to 0\n",
    "          matrixImage[i,j] = 0\n",
    "        end\n",
    "      end\n",
    "    end\n",
    "  end\n",
    "  return matrixImage\n",
    "end\n",
    "\n",
    "function getMatches(t1, t2, d)\n",
    "  #create 4D matrix to store the matches\n",
    "  matches=zeros(Int64,size(t1,1),size(t1,2),size(t2,1),size(t2,2))\n",
    "\n",
    "  #find all pixels in t1 that are equal to a pixel in t2 in less than quadratic time without using loops\n",
    "  #iterate the t1 image\n",
    "  for i in 1:size(t1,1)\n",
    "    for j in 1:size(t1,2)\n",
    "      # check if the pixel value is not 0\n",
    "      if t1[i,j] == 0 continue end\n",
    "\n",
    "      #searcḣ t2 in a window of size d\n",
    "      for k in max(1,i-d):min(size(t2,1),i+d)\n",
    "        for l in max(1,j-d):min(size(t2,2),j+d)\n",
    "          # check if the pixel value is not 0\n",
    "          if t2[k,l] == 0 continue end\n",
    "\n",
    "          # check if the pixel values are equal\n",
    "          if t1[i,j] == t2[k,l]\n",
    "            # if the pixel values are equal, set the value of the matches matrix to 1\n",
    "            matches[i,j,k,l] = 1\n",
    "          end\n",
    "        end\n",
    "      end\n",
    "    end\n",
    "  end\n",
    "\n",
    "  return matches\n",
    "end\n",
    "\n",
    "########################\n",
    "#### MAIN FUNCTION #####\n",
    "########################\n",
    "\n",
    "function findmatches(t1, t2; n=50, d=10)\n",
    "  # t1 and t2 are census transforms of two images with values of type UInt64\n",
    "  # n is the maximum number of occurances of a pixel value\n",
    "  # d is the maximum distance between two pixels\n",
    "\n",
    "  #discard all pixels that occur more than n times in t1 and t2\n",
    "  t1 = discardPixels(t1, n, d)\n",
    "  t2 = discardPixels(t1, n, d)\n",
    "  \n",
    "  #create 4D matrix to store the matches\n",
    "  matches = getMatches(t1, t2, d)\n",
    "\n",
    "  return matches\n",
    "end"
   ]
  },
  {
   "cell_type": "markdown",
   "metadata": {},
   "source": [
    "3. After finding all correspondences, take the average value at each location of all motion hypotheses and plot these detected motions as a vector field (u,v) using the quiver function."
   ]
  },
  {
   "cell_type": "code",
   "execution_count": 15,
   "metadata": {},
   "outputs": [
    {
     "data": {
      "text/plain": [
       "avgMotion (generic function with 1 method)"
      ]
     },
     "execution_count": 15,
     "metadata": {},
     "output_type": "execute_result"
    }
   ],
   "source": [
    "# After finding all correspondences, take the average value at each location of all motion\n",
    "# hypotheses and plot these detected motions as a vector field (u,v) using the quiver\n",
    "# function.\n",
    "\n",
    "function avgMotion(t1, t2, matches)\n",
    "\n",
    "  #create 4D matrix to store the average motion\n",
    "  avg_motion = zeros(Int64, size(t1,1), size(t1,2), 2)\n",
    "\n",
    "  #iterate the matches matrix\n",
    "  for i in 1:size(matches,1)\n",
    "    for j in 1:size(matches,2)\n",
    "      for k in 1:size(matches,3)\n",
    "        for l in 1:size(matches,4)\n",
    "          # check if the value of the matches matrix is 1\n",
    "          # TODO ----------------------------------------\n",
    "          if matches[i,j,k,l] == 1\n",
    "            # if the value of the matches matrix is 1, add the motion to the avg_motion matrix\n",
    "            avg_motion[i,j,1] += k-i\n",
    "            avg_motion[i,j,2] += l-j\n",
    "          end\n",
    "        end\n",
    "      end\n",
    "    end\n",
    "  end\n",
    "\n",
    "  return avg_motion\n",
    "end"
   ]
  },
  {
   "cell_type": "code",
   "execution_count": 16,
   "metadata": {},
   "outputs": [
    {
     "data": {
      "text/plain": [
       "60×80×2 Array{Int64, 3}:\n",
       "[:, :, 1] =\n",
       " 0  0  0  0  0  0  0  0  0  0  0  0  …  0  0  0  0  0  0  0  0  0  0   0  0\n",
       " 0  0  0  0  0  0  0  0  0  0  0  0     0  0  0  0  0  0  0  0  1  1   1  0\n",
       " 0  0  0  0  0  0  0  0  0  0  0  0     0  0  0  0  0  0  0  0  0  0  -3  0\n",
       " 0  0  0  0  0  0  0  0  0  0  0  0     0  0  0  0  0  0  0  0  0  0   0  0\n",
       " 0  0  0  0  0  0  0  0  0  0  0  0     0  0  0  0  0  0  0  0  0  0   0  0\n",
       " 0  0  0  0  0  0  0  0  0  0  0  0  …  0  0  0  0  0  0  0  0  0  0   0  0\n",
       " 0  0  0  0  0  0  0  0  0  0  0  0     0  0  0  0  0  0  0  0  0  0   0  0\n",
       " 0  0  0  0  0  0  0  0  0  0  0  0     0  0  0  0  0  0  0  0  0  0   0  0\n",
       " 0  0  0  0  0  0  0  0  0  0  0  0     0  0  0  0  0  0  0  0  0  0   0  0\n",
       " 0  0  0  0  0  0  0  0  0  0  0  0     0  0  0  0  0  0  0  0  0  0   0  0\n",
       " 0  0  0  0  0  0  0  0  0  0  0  0  …  0  0  0  0  0  0  0  0  0  0   0  0\n",
       " 0  0  0  0  0  0  0  0  0  0  0  0     0  0  0  0  0  0  0  0  0  0   0  0\n",
       " 0  0  0  0  0  0  0  0  0  0  0  0     0  0  0  0  0  0  0  0  0  0   0  0\n",
       " ⋮              ⋮              ⋮     ⋱        ⋮              ⋮            \n",
       " 0  0  0  0  0  0  0  0  0  0  0  0     0  0  0  0  0  0  0  0  0  0   0  0\n",
       " 0  0  0  0  0  0  0  0  0  0  0  0     0  0  0  0  0  0  0  0  0  0   0  0\n",
       " 0  0  0  0  0  0  0  0  0  0  0  0  …  0  0  0  0  0  0  0  0  0  0   0  0\n",
       " 0  0  0  0  0  0  0  0  0  0  0  0     0  0  0  0  0  0  0  0  0  0   0  0\n",
       " 0  0  0  0  0  0  0  0  0  0  0  0     0  0  0  0  0  0  0  0  0  0   0  0\n",
       " 0  0  0  0  0  0  0  0  0  0  0  0     0  0  0  0  0  0  0  0  0  0   0  0\n",
       " 0  0  0  0  0  0  0  0  0  0  0  0     0  0  0  0  0  0  0  0  0  0   0  0\n",
       " 0  0  0  0  0  0  0  0  0  0  0  0  …  0  0  0  0  0  0  0  0  0  0   0  0\n",
       " 0  0  0  0  0  0  0  0  0  0  0  0     0  0  0  0  0  0  0  0  0  0   0  0\n",
       " 0  0  0  0  0  0  0  0  0  0  0  0     0  0  0  0  0  0  0  0  0  0   0  0\n",
       " 0  0  0  0  0  0  0  0  0  0  0  0     0  0  0  0  0  0  0  0  0  0   0  0\n",
       " 0  0  0  0  0  0  0  0  0  0  0  0     0  0  0  0  0  0  0  0  0  0   0  0\n",
       "\n",
       "[:, :, 2] =\n",
       " 0  0  0  0  0  0  0  0  0  0  0  0  …  0  0  0  0  0  0  0  0  0  0   0  0\n",
       " 0  0  0  0  0  0  0  0  0  0  0  0     0  0  0  0  0  0  0  0  5  1  -3  0\n",
       " 0  0  0  0  0  0  0  0  0  0  0  0     0  0  0  0  0  0  0  0  0  0  -3  0\n",
       " 0  0  0  0  0  0  0  0  0  0  0  0     0  0  0  0  0  0  0  0  0  0   0  0\n",
       " 0  0  0  0  0  0  0  0  0  0  0  0     0  0  0  0  0  0  0  0  0  0   0  0\n",
       " 0  0  0  0  0  0  0  0  0  0  0  0  …  0  0  0  0  0  0  0  0  0  0   0  0\n",
       " 0  0  0  0  0  0  0  0  0  0  0  0     0  0  0  0  0  0  0  0  0  0   0  0\n",
       " 0  0  0  0  0  0  0  0  0  0  0  0     0  0  0  0  0  0  0  0  0  0   0  0\n",
       " 0  0  0  0  0  0  0  0  0  0  0  0     0  0  0  0  0  0  0  0  0  0   0  0\n",
       " 0  0  0  0  0  0  0  0  0  0  0  0     0  0  0  0  0  0  0  0  0  0   0  0\n",
       " 0  0  0  0  0  0  0  0  0  0  0  0  …  0  0  0  0  0  0  0  0  0  0   0  0\n",
       " 0  0  0  0  0  0  0  0  0  0  0  0     0  0  0  0  0  0  0  0  0  0   0  0\n",
       " 0  0  0  0  0  0  0  0  0  0  0  0     0  0  0  0  0  0  0  0  0  0   0  0\n",
       " ⋮              ⋮              ⋮     ⋱        ⋮              ⋮            \n",
       " 0  0  0  0  0  0  0  0  0  0  0  0     0  0  0  0  0  0  0  0  0  0   0  0\n",
       " 0  0  0  0  0  0  0  0  0  0  0  0     0  0  0  0  0  0  0  0  0  0   0  0\n",
       " 0  0  0  0  0  0  0  0  0  0  0  0  …  0  0  0  0  0  0  0  0  0  0   0  0\n",
       " 0  0  0  0  0  0  0  0  0  0  0  0     0  0  0  0  0  0  0  0  0  0   0  0\n",
       " 0  0  0  0  0  0  0  0  0  0  0  0     0  0  0  0  0  0  0  0  0  0   0  0\n",
       " 0  0  0  0  0  0  0  0  0  0  0  0     0  0  0  0  0  0  0  0  0  0   0  0\n",
       " 0  0  0  0  0  0  0  0  0  0  0  0     0  0  0  0  0  0  0  0  0  0   0  0\n",
       " 0  0  0  0  0  0  0  0  0  0  0  0  …  0  0  0  0  0  0  0  0  0  0   0  0\n",
       " 0  0  0  0  0  0  0  0  0  0  0  0     0  0  0  0  0  0  0  0  0  0   0  0\n",
       " 0  0  0  0  0  0  0  0  0  0  0  0     0  0  0  0  0  0  0  0  0  0   0  0\n",
       " 0  0  0  0  0  0  0  0  0  0  0  0     0  0  0  0  0  0  0  0  0  0   0  0\n",
       " 0  0  0  0  0  0  0  0  0  0  0  0     0  0  0  0  0  0  0  0  0  0   0  0"
      ]
     },
     "execution_count": 16,
     "metadata": {},
     "output_type": "execute_result"
    }
   ],
   "source": [
    "img1 = Gray.(load(\"images/taxi01.png\"))\n",
    "img2 = Gray.(load(\"images/taxi02.png\"))\n",
    "\n",
    "kernel = [\n",
    "  true true true;\n",
    "  true true true;\n",
    "  true true true;\n",
    "]\n",
    "  \n",
    "census1 = censustransform(img1, kernel)\n",
    "census2 = censustransform(img2, kernel)\n",
    "matches = findmatches(census1, census2)\n",
    "avg_motion = avgMotion(census1, census2, matches)\n",
    "\n",
    "# Plot these detected motions as a vector field (u,v) using the quiver"
   ]
  },
  {
   "cell_type": "code",
   "execution_count": 68,
   "metadata": {},
   "outputs": [
    {
     "data": {
      "image/svg+xml": "<?xml version=\"1.0\" encoding=\"utf-8\"?>\n<svg xmlns=\"http://www.w3.org/2000/svg\" xmlns:xlink=\"http://www.w3.org/1999/xlink\" width=\"600\" height=\"400\" viewBox=\"0 0 2400 1600\">\n<defs>\n  <clipPath id=\"clip020\">\n    <rect x=\"0\" y=\"0\" width=\"2400\" height=\"1600\"/>\n  </clipPath>\n</defs>\n<path clip-path=\"url(#clip020)\" d=\"\nM0 1600 L2400 1600 L2400 0 L0 0  Z\n  \" fill=\"#ffffff\" fill-rule=\"evenodd\" fill-opacity=\"1\"/>\n<defs>\n  <clipPath id=\"clip021\">\n    <rect x=\"480\" y=\"0\" width=\"1681\" height=\"1600\"/>\n  </clipPath>\n</defs>\n<path clip-path=\"url(#clip020)\" d=\"\nM138.959 1486.45 L2352.76 1486.45 L2352.76 47.2441 L138.959 47.2441  Z\n  \" fill=\"#ffffff\" fill-rule=\"evenodd\" fill-opacity=\"1\"/>\n<defs>\n  <clipPath id=\"clip022\">\n    <rect x=\"138\" y=\"47\" width=\"2215\" height=\"1440\"/>\n  </clipPath>\n</defs>\n<polyline clip-path=\"url(#clip022)\" style=\"stroke:#000000; stroke-linecap:round; stroke-linejoin:round; stroke-width:2; stroke-opacity:0.1; fill:none\" points=\"\n  433.668,1486.45 433.668,47.2441 \n  \"/>\n<polyline clip-path=\"url(#clip022)\" style=\"stroke:#000000; stroke-linecap:round; stroke-linejoin:round; stroke-width:2; stroke-opacity:0.1; fill:none\" points=\"\n  897.776,1486.45 897.776,47.2441 \n  \"/>\n<polyline clip-path=\"url(#clip022)\" style=\"stroke:#000000; stroke-linecap:round; stroke-linejoin:round; stroke-width:2; stroke-opacity:0.1; fill:none\" points=\"\n  1361.88,1486.45 1361.88,47.2441 \n  \"/>\n<polyline clip-path=\"url(#clip022)\" style=\"stroke:#000000; stroke-linecap:round; stroke-linejoin:round; stroke-width:2; stroke-opacity:0.1; fill:none\" points=\"\n  1825.99,1486.45 1825.99,47.2441 \n  \"/>\n<polyline clip-path=\"url(#clip022)\" style=\"stroke:#000000; stroke-linecap:round; stroke-linejoin:round; stroke-width:2; stroke-opacity:0.1; fill:none\" points=\"\n  2290.1,1486.45 2290.1,47.2441 \n  \"/>\n<polyline clip-path=\"url(#clip020)\" style=\"stroke:#000000; stroke-linecap:round; stroke-linejoin:round; stroke-width:4; stroke-opacity:1; fill:none\" points=\"\n  138.959,1486.45 2352.76,1486.45 \n  \"/>\n<polyline clip-path=\"url(#clip020)\" style=\"stroke:#000000; stroke-linecap:round; stroke-linejoin:round; stroke-width:4; stroke-opacity:1; fill:none\" points=\"\n  433.668,1486.45 433.668,1467.55 \n  \"/>\n<polyline clip-path=\"url(#clip020)\" style=\"stroke:#000000; stroke-linecap:round; stroke-linejoin:round; stroke-width:4; stroke-opacity:1; fill:none\" points=\"\n  897.776,1486.45 897.776,1467.55 \n  \"/>\n<polyline clip-path=\"url(#clip020)\" style=\"stroke:#000000; stroke-linecap:round; stroke-linejoin:round; stroke-width:4; stroke-opacity:1; fill:none\" points=\"\n  1361.88,1486.45 1361.88,1467.55 \n  \"/>\n<polyline clip-path=\"url(#clip020)\" style=\"stroke:#000000; stroke-linecap:round; stroke-linejoin:round; stroke-width:4; stroke-opacity:1; fill:none\" points=\"\n  1825.99,1486.45 1825.99,1467.55 \n  \"/>\n<polyline clip-path=\"url(#clip020)\" style=\"stroke:#000000; stroke-linecap:round; stroke-linejoin:round; stroke-width:4; stroke-opacity:1; fill:none\" points=\"\n  2290.1,1486.45 2290.1,1467.55 \n  \"/>\n<path clip-path=\"url(#clip020)\" d=\"M428.321 1544.91 L444.64 1544.91 L444.64 1548.85 L422.696 1548.85 L422.696 1544.91 Q425.358 1542.16 429.941 1537.53 Q434.548 1532.88 435.728 1531.53 Q437.974 1529.01 438.853 1527.27 Q439.756 1525.51 439.756 1523.82 Q439.756 1521.07 437.812 1519.33 Q435.89 1517.6 432.789 1517.6 Q430.59 1517.6 428.136 1518.36 Q425.705 1519.13 422.928 1520.68 L422.928 1515.95 Q425.752 1514.82 428.205 1514.24 Q430.659 1513.66 432.696 1513.66 Q438.066 1513.66 441.261 1516.35 Q444.455 1519.03 444.455 1523.52 Q444.455 1525.65 443.645 1527.57 Q442.858 1529.47 440.751 1532.07 Q440.173 1532.74 437.071 1535.95 Q433.969 1539.15 428.321 1544.91 Z\" fill=\"#000000\" fill-rule=\"evenodd\" fill-opacity=\"1\" /><path clip-path=\"url(#clip020)\" d=\"M900.786 1518.36 L888.98 1536.81 L900.786 1536.81 L900.786 1518.36 M899.559 1514.29 L905.438 1514.29 L905.438 1536.81 L910.369 1536.81 L910.369 1540.7 L905.438 1540.7 L905.438 1548.85 L900.786 1548.85 L900.786 1540.7 L885.184 1540.7 L885.184 1536.19 L899.559 1514.29 Z\" fill=\"#000000\" fill-rule=\"evenodd\" fill-opacity=\"1\" /><path clip-path=\"url(#clip020)\" d=\"M1362.29 1529.7 Q1359.14 1529.7 1357.29 1531.86 Q1355.46 1534.01 1355.46 1537.76 Q1355.46 1541.49 1357.29 1543.66 Q1359.14 1545.82 1362.29 1545.82 Q1365.44 1545.82 1367.27 1543.66 Q1369.12 1541.49 1369.12 1537.76 Q1369.12 1534.01 1367.27 1531.86 Q1365.44 1529.7 1362.29 1529.7 M1371.57 1515.05 L1371.57 1519.31 Q1369.81 1518.48 1368.01 1518.04 Q1366.22 1517.6 1364.47 1517.6 Q1359.84 1517.6 1357.38 1520.72 Q1354.95 1523.85 1354.6 1530.17 Q1355.97 1528.15 1358.03 1527.09 Q1360.09 1526 1362.57 1526 Q1367.78 1526 1370.79 1529.17 Q1373.82 1532.32 1373.82 1537.76 Q1373.82 1543.08 1370.67 1546.3 Q1367.52 1549.52 1362.29 1549.52 Q1356.29 1549.52 1353.12 1544.94 Q1349.95 1540.33 1349.95 1531.6 Q1349.95 1523.41 1353.84 1518.55 Q1357.73 1513.66 1364.28 1513.66 Q1366.04 1513.66 1367.82 1514.01 Q1369.63 1514.36 1371.57 1515.05 Z\" fill=\"#000000\" fill-rule=\"evenodd\" fill-opacity=\"1\" /><path clip-path=\"url(#clip020)\" d=\"M1825.99 1532.44 Q1822.66 1532.44 1820.74 1534.22 Q1818.84 1536 1818.84 1539.13 Q1818.84 1542.25 1820.74 1544.03 Q1822.66 1545.82 1825.99 1545.82 Q1829.33 1545.82 1831.25 1544.03 Q1833.17 1542.23 1833.17 1539.13 Q1833.17 1536 1831.25 1534.22 Q1829.35 1532.44 1825.99 1532.44 M1821.32 1530.45 Q1818.31 1529.7 1816.62 1527.64 Q1814.95 1525.58 1814.95 1522.62 Q1814.95 1518.48 1817.89 1516.07 Q1820.85 1513.66 1825.99 1513.66 Q1831.16 1513.66 1834.09 1516.07 Q1837.03 1518.48 1837.03 1522.62 Q1837.03 1525.58 1835.34 1527.64 Q1833.68 1529.7 1830.69 1530.45 Q1834.07 1531.23 1835.95 1533.52 Q1837.84 1535.82 1837.84 1539.13 Q1837.84 1544.15 1834.77 1546.83 Q1831.71 1549.52 1825.99 1549.52 Q1820.28 1549.52 1817.2 1546.83 Q1814.14 1544.15 1814.14 1539.13 Q1814.14 1535.82 1816.04 1533.52 Q1817.94 1531.23 1821.32 1530.45 M1819.6 1523.06 Q1819.6 1525.75 1821.27 1527.25 Q1822.96 1528.76 1825.99 1528.76 Q1829 1528.76 1830.69 1527.25 Q1832.41 1525.75 1832.41 1523.06 Q1832.41 1520.38 1830.69 1518.87 Q1829 1517.37 1825.99 1517.37 Q1822.96 1517.37 1821.27 1518.87 Q1819.6 1520.38 1819.6 1523.06 Z\" fill=\"#000000\" fill-rule=\"evenodd\" fill-opacity=\"1\" /><path clip-path=\"url(#clip020)\" d=\"M2264.79 1544.91 L2272.43 1544.91 L2272.43 1518.55 L2264.12 1520.21 L2264.12 1515.95 L2272.38 1514.29 L2277.06 1514.29 L2277.06 1544.91 L2284.7 1544.91 L2284.7 1548.85 L2264.79 1548.85 L2264.79 1544.91 Z\" fill=\"#000000\" fill-rule=\"evenodd\" fill-opacity=\"1\" /><path clip-path=\"url(#clip020)\" d=\"M2304.14 1517.37 Q2300.53 1517.37 2298.7 1520.93 Q2296.9 1524.47 2296.9 1531.6 Q2296.9 1538.71 2298.7 1542.27 Q2300.53 1545.82 2304.14 1545.82 Q2307.77 1545.82 2309.58 1542.27 Q2311.41 1538.71 2311.41 1531.6 Q2311.41 1524.47 2309.58 1520.93 Q2307.77 1517.37 2304.14 1517.37 M2304.14 1513.66 Q2309.95 1513.66 2313.01 1518.27 Q2316.08 1522.85 2316.08 1531.6 Q2316.08 1540.33 2313.01 1544.94 Q2309.95 1549.52 2304.14 1549.52 Q2298.33 1549.52 2295.25 1544.94 Q2292.2 1540.33 2292.2 1531.6 Q2292.2 1522.85 2295.25 1518.27 Q2298.33 1513.66 2304.14 1513.66 Z\" fill=\"#000000\" fill-rule=\"evenodd\" fill-opacity=\"1\" /><polyline clip-path=\"url(#clip022)\" style=\"stroke:#000000; stroke-linecap:round; stroke-linejoin:round; stroke-width:2; stroke-opacity:0.1; fill:none\" points=\"\n  138.959,1294.86 2352.76,1294.86 \n  \"/>\n<polyline clip-path=\"url(#clip022)\" style=\"stroke:#000000; stroke-linecap:round; stroke-linejoin:round; stroke-width:2; stroke-opacity:0.1; fill:none\" points=\"\n  138.959,993.136 2352.76,993.136 \n  \"/>\n<polyline clip-path=\"url(#clip022)\" style=\"stroke:#000000; stroke-linecap:round; stroke-linejoin:round; stroke-width:2; stroke-opacity:0.1; fill:none\" points=\"\n  138.959,691.416 2352.76,691.416 \n  \"/>\n<polyline clip-path=\"url(#clip022)\" style=\"stroke:#000000; stroke-linecap:round; stroke-linejoin:round; stroke-width:2; stroke-opacity:0.1; fill:none\" points=\"\n  138.959,389.696 2352.76,389.696 \n  \"/>\n<polyline clip-path=\"url(#clip022)\" style=\"stroke:#000000; stroke-linecap:round; stroke-linejoin:round; stroke-width:2; stroke-opacity:0.1; fill:none\" points=\"\n  138.959,87.9763 2352.76,87.9763 \n  \"/>\n<polyline clip-path=\"url(#clip020)\" style=\"stroke:#000000; stroke-linecap:round; stroke-linejoin:round; stroke-width:4; stroke-opacity:1; fill:none\" points=\"\n  138.959,1486.45 138.959,47.2441 \n  \"/>\n<polyline clip-path=\"url(#clip020)\" style=\"stroke:#000000; stroke-linecap:round; stroke-linejoin:round; stroke-width:4; stroke-opacity:1; fill:none\" points=\"\n  138.959,1294.86 157.857,1294.86 \n  \"/>\n<polyline clip-path=\"url(#clip020)\" style=\"stroke:#000000; stroke-linecap:round; stroke-linejoin:round; stroke-width:4; stroke-opacity:1; fill:none\" points=\"\n  138.959,993.136 157.857,993.136 \n  \"/>\n<polyline clip-path=\"url(#clip020)\" style=\"stroke:#000000; stroke-linecap:round; stroke-linejoin:round; stroke-width:4; stroke-opacity:1; fill:none\" points=\"\n  138.959,691.416 157.857,691.416 \n  \"/>\n<polyline clip-path=\"url(#clip020)\" style=\"stroke:#000000; stroke-linecap:round; stroke-linejoin:round; stroke-width:4; stroke-opacity:1; fill:none\" points=\"\n  138.959,389.696 157.857,389.696 \n  \"/>\n<polyline clip-path=\"url(#clip020)\" style=\"stroke:#000000; stroke-linecap:round; stroke-linejoin:round; stroke-width:4; stroke-opacity:1; fill:none\" points=\"\n  138.959,87.9763 157.857,87.9763 \n  \"/>\n<path clip-path=\"url(#clip020)\" d=\"M86.6401 1308.2 L102.959 1308.2 L102.959 1312.14 L81.0151 1312.14 L81.0151 1308.2 Q83.6771 1305.45 88.2604 1300.82 Q92.8669 1296.16 94.0475 1294.82 Q96.2928 1292.3 97.1724 1290.56 Q98.0752 1288.8 98.0752 1287.11 Q98.0752 1284.36 96.1308 1282.62 Q94.2095 1280.89 91.1077 1280.89 Q88.9086 1280.89 86.4549 1281.65 Q84.0244 1282.41 81.2466 1283.96 L81.2466 1279.24 Q84.0707 1278.11 86.5243 1277.53 Q88.978 1276.95 91.0151 1276.95 Q96.3854 1276.95 99.5798 1279.64 Q102.774 1282.32 102.774 1286.81 Q102.774 1288.94 101.964 1290.86 Q101.177 1292.76 99.0706 1295.35 Q98.4919 1296.02 95.39 1299.24 Q92.2882 1302.44 86.6401 1308.2 Z\" fill=\"#000000\" fill-rule=\"evenodd\" fill-opacity=\"1\" /><path clip-path=\"url(#clip020)\" d=\"M93.3762 979.93 L81.5707 998.379 L93.3762 998.379 L93.3762 979.93 M92.1493 975.856 L98.0289 975.856 L98.0289 998.379 L102.959 998.379 L102.959 1002.27 L98.0289 1002.27 L98.0289 1010.42 L93.3762 1010.42 L93.3762 1002.27 L77.7744 1002.27 L77.7744 997.754 L92.1493 975.856 Z\" fill=\"#000000\" fill-rule=\"evenodd\" fill-opacity=\"1\" /><path clip-path=\"url(#clip020)\" d=\"M91.4317 689.553 Q88.2836 689.553 86.4318 691.705 Q84.6031 693.858 84.6031 697.608 Q84.6031 701.335 86.4318 703.511 Q88.2836 705.664 91.4317 705.664 Q94.5799 705.664 96.4085 703.511 Q98.2604 701.335 98.2604 697.608 Q98.2604 693.858 96.4085 691.705 Q94.5799 689.553 91.4317 689.553 M100.714 674.9 L100.714 679.159 Q98.9548 678.326 97.1493 677.886 Q95.3669 677.446 93.6076 677.446 Q88.978 677.446 86.5243 680.571 Q84.0938 683.696 83.7466 690.016 Q85.1123 688.002 87.1725 686.937 Q89.2327 685.849 91.7095 685.849 Q96.9178 685.849 99.927 689.02 Q102.959 692.168 102.959 697.608 Q102.959 702.932 99.8113 706.15 Q96.6632 709.367 91.4317 709.367 Q85.4364 709.367 82.2651 704.784 Q79.0938 700.178 79.0938 691.451 Q79.0938 683.256 82.9827 678.395 Q86.8716 673.511 93.4225 673.511 Q95.1817 673.511 96.9641 673.858 Q98.7696 674.205 100.714 674.9 Z\" fill=\"#000000\" fill-rule=\"evenodd\" fill-opacity=\"1\" /><path clip-path=\"url(#clip020)\" d=\"M91.1077 390.564 Q87.7743 390.564 85.8531 392.347 Q83.9549 394.129 83.9549 397.254 Q83.9549 400.379 85.8531 402.161 Q87.7743 403.944 91.1077 403.944 Q94.441 403.944 96.3623 402.161 Q98.2835 400.356 98.2835 397.254 Q98.2835 394.129 96.3623 392.347 Q94.4641 390.564 91.1077 390.564 M86.4318 388.573 Q83.4225 387.833 81.7327 385.773 Q80.066 383.712 80.066 380.749 Q80.066 376.606 83.0058 374.199 Q85.9688 371.791 91.1077 371.791 Q96.2697 371.791 99.2095 374.199 Q102.149 376.606 102.149 380.749 Q102.149 383.712 100.459 385.773 Q98.7928 387.833 95.8067 388.573 Q99.1863 389.361 101.061 391.652 Q102.959 393.944 102.959 397.254 Q102.959 402.277 99.8808 404.962 Q96.8252 407.647 91.1077 407.647 Q85.3901 407.647 82.3114 404.962 Q79.2559 402.277 79.2559 397.254 Q79.2559 393.944 81.154 391.652 Q83.0521 389.361 86.4318 388.573 M84.7188 381.189 Q84.7188 383.874 86.3855 385.379 Q88.0753 386.884 91.1077 386.884 Q94.1169 386.884 95.8067 385.379 Q97.5197 383.874 97.5197 381.189 Q97.5197 378.504 95.8067 376.999 Q94.1169 375.495 91.1077 375.495 Q88.0753 375.495 86.3855 376.999 Q84.7188 378.504 84.7188 381.189 Z\" fill=\"#000000\" fill-rule=\"evenodd\" fill-opacity=\"1\" /><path clip-path=\"url(#clip020)\" d=\"M51.6634 101.321 L59.3023 101.321 L59.3023 74.9555 L50.9921 76.6222 L50.9921 72.3629 L59.256 70.6963 L63.9319 70.6963 L63.9319 101.321 L71.5707 101.321 L71.5707 105.256 L51.6634 105.256 L51.6634 101.321 Z\" fill=\"#000000\" fill-rule=\"evenodd\" fill-opacity=\"1\" /><path clip-path=\"url(#clip020)\" d=\"M91.0151 73.775 Q87.404 73.775 85.5753 77.3398 Q83.7697 80.8814 83.7697 88.011 Q83.7697 95.1174 85.5753 98.6822 Q87.404 102.224 91.0151 102.224 Q94.6493 102.224 96.4548 98.6822 Q98.2835 95.1174 98.2835 88.011 Q98.2835 80.8814 96.4548 77.3398 Q94.6493 73.775 91.0151 73.775 M91.0151 70.0713 Q96.8252 70.0713 99.8808 74.6777 Q102.959 79.261 102.959 88.011 Q102.959 96.7378 99.8808 101.344 Q96.8252 105.928 91.0151 105.928 Q85.2049 105.928 82.1262 101.344 Q79.0707 96.7378 79.0707 88.011 Q79.0707 79.261 82.1262 74.6777 Q85.2049 70.0713 91.0151 70.0713 Z\" fill=\"#000000\" fill-rule=\"evenodd\" fill-opacity=\"1\" /><polyline clip-path=\"url(#clip022)\" style=\"stroke:#009af9; stroke-linecap:round; stroke-linejoin:round; stroke-width:4; stroke-opacity:1; fill:none\" points=\"\n  201.614,1445.72 201.614,1445.72 \n  \"/>\n<polyline clip-path=\"url(#clip022)\" style=\"stroke:#009af9; stroke-linecap:round; stroke-linejoin:round; stroke-width:4; stroke-opacity:1; fill:none\" points=\"\n  -nan,-nan -nan,-nan -nan,-nan \n  \"/>\n<polyline clip-path=\"url(#clip022)\" style=\"stroke:#009af9; stroke-linecap:round; stroke-linejoin:round; stroke-width:4; stroke-opacity:1; fill:none\" points=\"\n  -nan,-nan -nan,-nan \n  \"/>\n<polyline clip-path=\"url(#clip022)\" style=\"stroke:#009af9; stroke-linecap:round; stroke-linejoin:round; stroke-width:4; stroke-opacity:1; fill:none\" points=\"\n  433.668,1294.86 433.668,1294.86 \n  \"/>\n<polyline clip-path=\"url(#clip022)\" style=\"stroke:#009af9; stroke-linecap:round; stroke-linejoin:round; stroke-width:4; stroke-opacity:1; fill:none\" points=\"\n  -nan,-nan -nan,-nan -nan,-nan \n  \"/>\n<polyline clip-path=\"url(#clip022)\" style=\"stroke:#009af9; stroke-linecap:round; stroke-linejoin:round; stroke-width:4; stroke-opacity:1; fill:none\" points=\"\n  -nan,-nan -nan,-nan \n  \"/>\n<polyline clip-path=\"url(#clip022)\" style=\"stroke:#009af9; stroke-linecap:round; stroke-linejoin:round; stroke-width:4; stroke-opacity:1; fill:none\" points=\"\n  665.722,1144 665.722,1144 \n  \"/>\n<polyline clip-path=\"url(#clip022)\" style=\"stroke:#009af9; stroke-linecap:round; stroke-linejoin:round; stroke-width:4; stroke-opacity:1; fill:none\" points=\"\n  -nan,-nan -nan,-nan -nan,-nan \n  \"/>\n<polyline clip-path=\"url(#clip022)\" style=\"stroke:#009af9; stroke-linecap:round; stroke-linejoin:round; stroke-width:4; stroke-opacity:1; fill:none\" points=\"\n  -nan,-nan -nan,-nan \n  \"/>\n<polyline clip-path=\"url(#clip022)\" style=\"stroke:#009af9; stroke-linecap:round; stroke-linejoin:round; stroke-width:4; stroke-opacity:1; fill:none\" points=\"\n  897.776,993.136 897.776,993.136 \n  \"/>\n<polyline clip-path=\"url(#clip022)\" style=\"stroke:#009af9; stroke-linecap:round; stroke-linejoin:round; stroke-width:4; stroke-opacity:1; fill:none\" points=\"\n  -nan,-nan -nan,-nan -nan,-nan \n  \"/>\n<polyline clip-path=\"url(#clip022)\" style=\"stroke:#009af9; stroke-linecap:round; stroke-linejoin:round; stroke-width:4; stroke-opacity:1; fill:none\" points=\"\n  -nan,-nan -nan,-nan \n  \"/>\n<polyline clip-path=\"url(#clip022)\" style=\"stroke:#009af9; stroke-linecap:round; stroke-linejoin:round; stroke-width:4; stroke-opacity:1; fill:none\" points=\"\n  1129.83,842.276 1129.83,842.276 \n  \"/>\n<polyline clip-path=\"url(#clip022)\" style=\"stroke:#009af9; stroke-linecap:round; stroke-linejoin:round; stroke-width:4; stroke-opacity:1; fill:none\" points=\"\n  -nan,-nan -nan,-nan -nan,-nan \n  \"/>\n<polyline clip-path=\"url(#clip022)\" style=\"stroke:#009af9; stroke-linecap:round; stroke-linejoin:round; stroke-width:4; stroke-opacity:1; fill:none\" points=\"\n  -nan,-nan -nan,-nan \n  \"/>\n<polyline clip-path=\"url(#clip022)\" style=\"stroke:#009af9; stroke-linecap:round; stroke-linejoin:round; stroke-width:4; stroke-opacity:1; fill:none\" points=\"\n  1361.88,691.416 1361.88,691.416 \n  \"/>\n<polyline clip-path=\"url(#clip022)\" style=\"stroke:#009af9; stroke-linecap:round; stroke-linejoin:round; stroke-width:4; stroke-opacity:1; fill:none\" points=\"\n  -nan,-nan -nan,-nan -nan,-nan \n  \"/>\n<polyline clip-path=\"url(#clip022)\" style=\"stroke:#009af9; stroke-linecap:round; stroke-linejoin:round; stroke-width:4; stroke-opacity:1; fill:none\" points=\"\n  -nan,-nan -nan,-nan \n  \"/>\n<polyline clip-path=\"url(#clip022)\" style=\"stroke:#009af9; stroke-linecap:round; stroke-linejoin:round; stroke-width:4; stroke-opacity:1; fill:none\" points=\"\n  1593.94,540.556 1593.94,540.556 \n  \"/>\n<polyline clip-path=\"url(#clip022)\" style=\"stroke:#009af9; stroke-linecap:round; stroke-linejoin:round; stroke-width:4; stroke-opacity:1; fill:none\" points=\"\n  -nan,-nan -nan,-nan -nan,-nan \n  \"/>\n<polyline clip-path=\"url(#clip022)\" style=\"stroke:#009af9; stroke-linecap:round; stroke-linejoin:round; stroke-width:4; stroke-opacity:1; fill:none\" points=\"\n  -nan,-nan -nan,-nan \n  \"/>\n<polyline clip-path=\"url(#clip022)\" style=\"stroke:#009af9; stroke-linecap:round; stroke-linejoin:round; stroke-width:4; stroke-opacity:1; fill:none\" points=\"\n  1825.99,389.696 1825.99,389.696 \n  \"/>\n<polyline clip-path=\"url(#clip022)\" style=\"stroke:#009af9; stroke-linecap:round; stroke-linejoin:round; stroke-width:4; stroke-opacity:1; fill:none\" points=\"\n  -nan,-nan -nan,-nan -nan,-nan \n  \"/>\n<polyline clip-path=\"url(#clip022)\" style=\"stroke:#009af9; stroke-linecap:round; stroke-linejoin:round; stroke-width:4; stroke-opacity:1; fill:none\" points=\"\n  -nan,-nan -nan,-nan \n  \"/>\n<polyline clip-path=\"url(#clip022)\" style=\"stroke:#009af9; stroke-linecap:round; stroke-linejoin:round; stroke-width:4; stroke-opacity:1; fill:none\" points=\"\n  2058.05,238.836 2058.05,238.836 \n  \"/>\n<polyline clip-path=\"url(#clip022)\" style=\"stroke:#009af9; stroke-linecap:round; stroke-linejoin:round; stroke-width:4; stroke-opacity:1; fill:none\" points=\"\n  -nan,-nan -nan,-nan -nan,-nan \n  \"/>\n<polyline clip-path=\"url(#clip022)\" style=\"stroke:#009af9; stroke-linecap:round; stroke-linejoin:round; stroke-width:4; stroke-opacity:1; fill:none\" points=\"\n  -nan,-nan -nan,-nan \n  \"/>\n<polyline clip-path=\"url(#clip022)\" style=\"stroke:#009af9; stroke-linecap:round; stroke-linejoin:round; stroke-width:4; stroke-opacity:1; fill:none\" points=\"\n  2290.1,87.9763 2290.1,87.9763 \n  \"/>\n<polyline clip-path=\"url(#clip022)\" style=\"stroke:#009af9; stroke-linecap:round; stroke-linejoin:round; stroke-width:4; stroke-opacity:1; fill:none\" points=\"\n  -nan,-nan -nan,-nan -nan,-nan \n  \"/>\n<polyline clip-path=\"url(#clip022)\" style=\"stroke:#009af9; stroke-linecap:round; stroke-linejoin:round; stroke-width:4; stroke-opacity:1; fill:none\" points=\"\n  -nan,-nan -nan,-nan \n  \"/>\n</svg>\n"
     },
     "execution_count": 68,
     "metadata": {},
     "output_type": "execute_result"
    }
   ],
   "source": [
    "# quiver example\n",
    "# quiver(X,Y,U,V)\n",
    "# X,Y are the coordinates of the arrows\n",
    "# U,V are the components of the arrows\n",
    "x = 1:(size(match,1)-50)\n",
    "y = 1:(size(match,2)-70)\n",
    "u = match[:,:,1][1:10, 1:10]\n",
    "v = match[:,:,2][1:10, 1:10]\n",
    "quiver(x,y, quiver=(u,v))"
   ]
  },
  {
   "cell_type": "markdown",
   "metadata": {},
   "source": [
    "4. Generate flow fields for the provided sequences: yos_clouds, hamburg and taxi with census- and rank transforms and briefly discuss the results."
   ]
  }
 ],
 "metadata": {
  "kernelspec": {
   "display_name": "Julia 1.8.2",
   "language": "julia",
   "name": "julia-1.8"
  },
  "language_info": {
   "file_extension": ".jl",
   "mimetype": "application/julia",
   "name": "julia",
   "version": "1.8.2"
  },
  "orig_nbformat": 4
 },
 "nbformat": 4,
 "nbformat_minor": 2
}
