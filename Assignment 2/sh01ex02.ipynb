{
 "cells": [
  {
   "cell_type": "code",
   "execution_count": 4,
   "metadata": {},
   "outputs": [
    {
     "name": "stderr",
     "output_type": "stream",
     "text": [
      "\u001b[32m\u001b[1m   Resolving\u001b[22m\u001b[39m package versions...\n",
      "\u001b[32m\u001b[1m  No Changes\u001b[22m\u001b[39m to `~/.julia/environments/v1.8/Project.toml`\n",
      "\u001b[32m\u001b[1m  No Changes\u001b[22m\u001b[39m to `~/.julia/environments/v1.8/Manifest.toml`\n",
      "\u001b[32m\u001b[1m   Resolving\u001b[22m\u001b[39m package versions...\n",
      "\u001b[32m\u001b[1m  No Changes\u001b[22m\u001b[39m to `~/.julia/environments/v1.8/Project.toml`\n",
      "\u001b[32m\u001b[1m  No Changes\u001b[22m\u001b[39m to `~/.julia/environments/v1.8/Manifest.toml`\n",
      "\u001b[32m\u001b[1m   Resolving\u001b[22m\u001b[39m package versions...\n",
      "\u001b[32m\u001b[1m  No Changes\u001b[22m\u001b[39m to `~/.julia/environments/v1.8/Project.toml`\n",
      "\u001b[32m\u001b[1m  No Changes\u001b[22m\u001b[39m to `~/.julia/environments/v1.8/Manifest.toml`\n"
     ]
    }
   ],
   "source": [
    "import Pkg\n",
    "Pkg.add(\"Images\")\n",
    "Pkg.add(\"FileIO\")\n",
    "Pkg.add(\"Plots\")\n",
    "\n",
    "using Images\n",
    "using FileIO\n",
    "using Plots"
   ]
  },
  {
   "cell_type": "markdown",
   "metadata": {},
   "source": [
    "Write a Julia function ranktransform(img, kernel; epsilon=0.1) that implements\n",
    "the rank transform. It should take a grayscale input image img and compute the\n",
    "rank value of each pixel by comparing it to the neighboring locations selected by the\n",
    "boolean array kernel. The value epsilon serves as a tolerance threshold, i.e., instead\n",
    "of testing whether the central pixel is larger than its neighbors, the function should\n",
    "test whether the central pixel value is larger by a margin of at least epsilon."
   ]
  },
  {
   "cell_type": "code",
   "execution_count": 86,
   "metadata": {},
   "outputs": [
    {
     "data": {
      "text/plain": [
       "ranktransform (generic function with 1 method)"
      ]
     },
     "execution_count": 86,
     "metadata": {},
     "output_type": "execute_result"
    }
   ],
   "source": [
    "# Write a Julia function ranktransform(img, kernel; epsilon=0.1) that implements\n",
    "#   the rank transform. It should take a grayscale input image img and compute the\n",
    "#   rank value of each pixel by comparing it to the neighboring locations selected by the\n",
    "#   boolean array kernel. The value epsilon serves as a tolerance threshold, i.e., instead\n",
    "#   of testing whether the central pixel is larger than its neighbors, the function should\n",
    "#   test whether the central pixel value is larger by a margin of at least epsilon.\n",
    "\n",
    "# kernel example\n",
    "# kernel = [true false true false false false true false]\n",
    "\n",
    "function ranktransform(img, kernel; epsilon=0.1)\n",
    "    # your code here\n",
    "\n",
    "    # create a new image with the same size as the input image\n",
    "    img_new = zeros(size(img))\n",
    "\n",
    "    # size of kernel always 8\n",
    "\n",
    "    # loop over all pixels in the image\n",
    "    for i in 2:size(img,1) -1 \n",
    "        for j in 2:size(img,2) -1\n",
    "\n",
    "            # get the value of the central pixel\n",
    "            central_pixel = img[i,j]\n",
    "\n",
    "            # get the values of the neighboring pixels\n",
    "\n",
    "            # get the value of the top left pixel\n",
    "            top_left_pixel = img[i-1,j-1]\n",
    "\n",
    "            # get the value of the top pixel\n",
    "            top_pixel = img[i-1,j]\n",
    "\n",
    "            # get the value of the top right pixel\n",
    "            top_right_pixel = img[i-1,j+1]\n",
    "\n",
    "            # get the value of the left pixel\n",
    "            left_pixel = img[i,j-1]\n",
    "\n",
    "            # get the value of the right pixel\n",
    "            right_pixel = img[i,j+1]\n",
    "\n",
    "            # get the value of the bottom left pixel\n",
    "            bottom_left_pixel = img[i+1,j-1]\n",
    "\n",
    "            # get the value of the bottom pixel\n",
    "            bottom_pixel = img[i+1,j]\n",
    "\n",
    "            # get the value of the bottom right pixel\n",
    "            bottom_right_pixel = img[i+1,j+1]\n",
    "\n",
    "            # get the values of the neighboring pixels into an array\n",
    "            neighboring_pixels = [top_left_pixel top_pixel top_right_pixel left_pixel right_pixel bottom_left_pixel bottom_pixel bottom_right_pixel]\n",
    "\n",
    "            # get the number of neighboring pixels that are smaller than the central pixel + epsilon\n",
    "            number_of_larger_pixels = sum(neighboring_pixels .< (central_pixel - N0f8.(epsilon)))\n",
    "\n",
    "            # put the rank value into the new image\n",
    "            img_new[i,j] = number_of_larger_pixels\n",
    "        end\n",
    "    end\n",
    "\n",
    "    # convert array to image\n",
    "    img_new = Gray.(img_new)\n",
    "    return img_new\n",
    "end"
   ]
  },
  {
   "cell_type": "code",
   "execution_count": 91,
   "metadata": {},
   "outputs": [
    {
     "data": {
      "image/png": "[encoded data removed]",
      "text/html": [
       "<img src=\"data:image/png;base64,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\">"
      ],
      "text/plain": [
       "191×256 Array{Gray{Float64},2} with eltype Gray{Float64}:\n",
       " Gray{Float64}(0.0)  Gray{Float64}(0.0)  …  Gray{Float64}(0.0)\n",
       " Gray{Float64}(0.0)  Gray{Float64}(3.0)     Gray{Float64}(0.0)\n",
       " Gray{Float64}(0.0)  Gray{Float64}(0.0)     Gray{Float64}(0.0)\n",
       " Gray{Float64}(0.0)  Gray{Float64}(0.0)     Gray{Float64}(0.0)\n",
       " Gray{Float64}(0.0)  Gray{Float64}(0.0)     Gray{Float64}(0.0)\n",
       " Gray{Float64}(0.0)  Gray{Float64}(0.0)  …  Gray{Float64}(0.0)\n",
       " Gray{Float64}(0.0)  Gray{Float64}(0.0)     Gray{Float64}(0.0)\n",
       " Gray{Float64}(0.0)  Gray{Float64}(0.0)     Gray{Float64}(0.0)\n",
       " Gray{Float64}(0.0)  Gray{Float64}(0.0)     Gray{Float64}(0.0)\n",
       " Gray{Float64}(0.0)  Gray{Float64}(0.0)     Gray{Float64}(0.0)\n",
       " Gray{Float64}(0.0)  Gray{Float64}(0.0)  …  Gray{Float64}(0.0)\n",
       " Gray{Float64}(0.0)  Gray{Float64}(0.0)     Gray{Float64}(0.0)\n",
       " Gray{Float64}(0.0)  Gray{Float64}(0.0)     Gray{Float64}(0.0)\n",
       " ⋮                                       ⋱  ⋮\n",
       " Gray{Float64}(0.0)  Gray{Float64}(0.0)     Gray{Float64}(0.0)\n",
       " Gray{Float64}(0.0)  Gray{Float64}(0.0)  …  Gray{Float64}(0.0)\n",
       " Gray{Float64}(0.0)  Gray{Float64}(0.0)     Gray{Float64}(0.0)\n",
       " Gray{Float64}(0.0)  Gray{Float64}(0.0)     Gray{Float64}(0.0)\n",
       " Gray{Float64}(0.0)  Gray{Float64}(0.0)     Gray{Float64}(0.0)\n",
       " Gray{Float64}(0.0)  Gray{Float64}(0.0)     Gray{Float64}(0.0)\n",
       " Gray{Float64}(0.0)  Gray{Float64}(0.0)  …  Gray{Float64}(0.0)\n",
       " Gray{Float64}(0.0)  Gray{Float64}(0.0)     Gray{Float64}(0.0)\n",
       " Gray{Float64}(0.0)  Gray{Float64}(0.0)     Gray{Float64}(0.0)\n",
       " Gray{Float64}(0.0)  Gray{Float64}(0.0)     Gray{Float64}(0.0)\n",
       " Gray{Float64}(0.0)  Gray{Float64}(0.0)     Gray{Float64}(0.0)\n",
       " Gray{Float64}(0.0)  Gray{Float64}(0.0)  …  Gray{Float64}(0.0)"
      ]
     },
     "execution_count": 91,
     "metadata": {},
     "output_type": "execute_result"
    }
   ],
   "source": [
    "img = load(\"images/hamburg01.png\")\n",
    "\n",
    "# Convert img to grayscale\n",
    "img = Gray.(img)\n",
    "\n",
    "# Create a boolean kernel\n",
    "kernel = [true false true false false false true false]\n",
    "\n",
    "# Compute the rank transform of img\n",
    "img_rank = ranktransform(img, kernel)\n",
    "\n",
    "# Display the input image and the rank transform image\n",
    "img_rank"
   ]
  }
 ],
 "metadata": {
  "kernelspec": {
   "display_name": "Julia 1.8.2",
   "language": "julia",
   "name": "julia-1.8"
  },
  "language_info": {
   "file_extension": ".jl",
   "mimetype": "application/julia",
   "name": "julia",
   "version": "1.8.2"
  },
  "orig_nbformat": 4
 },
 "nbformat": 4,
 "nbformat_minor": 2
}
