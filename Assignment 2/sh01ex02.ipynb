{
 "cells": [
  {
   "cell_type": "code",
   "execution_count": 4,
   "metadata": {},
   "outputs": [
    {
     "name": "stderr",
     "output_type": "stream",
     "text": [
      "\u001b[32m\u001b[1m   Resolving\u001b[22m\u001b[39m package versions...\n",
      "\u001b[32m\u001b[1m  No Changes\u001b[22m\u001b[39m to `~/.julia/environments/v1.8/Project.toml`\n",
      "\u001b[32m\u001b[1m  No Changes\u001b[22m\u001b[39m to `~/.julia/environments/v1.8/Manifest.toml`\n",
      "\u001b[32m\u001b[1m   Resolving\u001b[22m\u001b[39m package versions...\n",
      "\u001b[32m\u001b[1m  No Changes\u001b[22m\u001b[39m to `~/.julia/environments/v1.8/Project.toml`\n",
      "\u001b[32m\u001b[1m  No Changes\u001b[22m\u001b[39m to `~/.julia/environments/v1.8/Manifest.toml`\n",
      "\u001b[32m\u001b[1m   Resolving\u001b[22m\u001b[39m package versions...\n",
      "\u001b[32m\u001b[1m  No Changes\u001b[22m\u001b[39m to `~/.julia/environments/v1.8/Project.toml`\n",
      "\u001b[32m\u001b[1m  No Changes\u001b[22m\u001b[39m to `~/.julia/environments/v1.8/Manifest.toml`\n"
     ]
    }
   ],
   "source": [
    "import Pkg\n",
    "Pkg.add(\"Images\")\n",
    "Pkg.add(\"FileIO\")\n",
    "Pkg.add(\"Plots\")\n",
    "\n",
    "using Images\n",
    "using FileIO\n",
    "using Plots"
   ]
  },
  {
   "cell_type": "markdown",
   "metadata": {},
   "source": [
    "Write a Julia function ranktransform(img, kernel; epsilon=0.1) that implements\n",
    "the rank transform. It should take a grayscale input image img and compute the\n",
    "rank value of each pixel by comparing it to the neighboring locations selected by the\n",
    "boolean array kernel. The value epsilon serves as a tolerance threshold, i.e., instead\n",
    "of testing whether the central pixel is larger than its neighbors, the function should\n",
    "test whether the central pixel value is larger by a margin of at least epsilon."
   ]
  },
  {
   "cell_type": "code",
   "execution_count": 96,
   "metadata": {},
   "outputs": [
    {
     "data": {
      "text/plain": [
       "ranktransform (generic function with 1 method)"
      ]
     },
     "execution_count": 96,
     "metadata": {},
     "output_type": "execute_result"
    }
   ],
   "source": [
    "# Write a Julia function ranktransform(img, kernel; epsilon=0.1) that implements\n",
    "#   the rank transform. It should take a grayscale input image img and compute the\n",
    "#   rank value of each pixel by comparing it to the neighboring locations selected by the\n",
    "#   boolean array kernel. The value epsilon serves as a tolerance threshold, i.e., instead\n",
    "#   of testing whether the central pixel is larger than its neighbors, the function should\n",
    "#   test whether the central pixel value is larger by a margin of at least epsilon.\n",
    "\n",
    "# kernel example\n",
    "# kernel = [true false true false false false true false]\n",
    "\n",
    "function ranktransform(img, kernel; epsilon=0.1)\n",
    "    # your code here\n",
    "\n",
    "    # create a new image with the same size as the input image\n",
    "    img_new = zeros(size(img))\n",
    "\n",
    "    # size of kernel always 8\n",
    "\n",
    "    # loop over all pixels in the image\n",
    "    for i in 2:size(img,1) -1 \n",
    "        for j in 2:size(img,2) -1\n",
    "\n",
    "            # get the value of the central pixel\n",
    "            central_pixel = img[i,j]\n",
    "\n",
    "            # get the values of the neighboring pixels\n",
    "\n",
    "            # get the value of the top left pixel\n",
    "            top_left_pixel = img[i-1,j-1]\n",
    "\n",
    "            # get the value of the top pixel\n",
    "            top_pixel = img[i-1,j]\n",
    "\n",
    "            # get the value of the top right pixel\n",
    "            top_right_pixel = img[i-1,j+1]\n",
    "\n",
    "            # get the value of the left pixel\n",
    "            left_pixel = img[i,j-1]\n",
    "\n",
    "            # get the value of the right pixel\n",
    "            right_pixel = img[i,j+1]\n",
    "\n",
    "            # get the value of the bottom left pixel\n",
    "            bottom_left_pixel = img[i+1,j-1]\n",
    "\n",
    "            # get the value of the bottom pixel\n",
    "            bottom_pixel = img[i+1,j]\n",
    "\n",
    "            # get the value of the bottom right pixel\n",
    "            bottom_right_pixel = img[i+1,j+1]\n",
    "\n",
    "            # get the values of the neighboring pixels into an array\n",
    "            neighboring_pixels = [top_left_pixel top_pixel top_right_pixel left_pixel right_pixel bottom_left_pixel bottom_pixel bottom_right_pixel]\n",
    "\n",
    "            # keep the values of the neighboring pixels where the kernel is true\n",
    "            neighboring_pixels = neighboring_pixels[kernel]\n",
    "\n",
    "            # get the number of neighboring pixels that are smaller than the central pixel + epsilon\n",
    "            number_of_larger_pixels = sum(neighboring_pixels .< (central_pixel - N0f8.(epsilon)))\n",
    "\n",
    "            # put the rank value into the new image\n",
    "            img_new[i,j] = number_of_larger_pixels\n",
    "        end\n",
    "    end\n",
    "\n",
    "    # convert array to image\n",
    "    img_new = Gray.(img_new)\n",
    "    return img_new\n",
    "end"
   ]
  },
  {
   "cell_type": "code",
   "execution_count": 210,
   "metadata": {},
   "outputs": [
    {
     "data": {
      "image/png": "[encoded data removed]",
      "text/html": [
       "<img src=\"data:image/png;base64,iVBORw0KGgoAAAANSUhEUgAAAKAAAAB4CAAAAABQyaazAAAABGdBTUEAALGPC/xhBQAAAAFzUkdCAK7OHOkAAAAgY0hSTQAAeiYAAICEAAD6AAAAgOgAAHUwAADqYAAAOpgAABdwnLpRPAAAAn1JREFUeAHNwQlqIwkQBMBIqP9/OZdGCB225PYxS0WM5cZyY6k6xFhuLBUUY7mxWDCWG8uN5cZyY7mx3FhuLDeWG8uN5cZyY7mx3FhuLDeWG8uN5cYqFY/GcuMX6iL+Sjwby41vq2dFnFcX8bWx3PiWehTUoYi6iVfivLHcOKnuxU1Qh4pDHYp4pQ7xlbHcOKFu4pU41L0iPhPnjOXGW3UT79VNXBRF/NRYbrxUN/EdcRV1qPiZsdz4Qjyrq7iKV4KiiO8by41vqXtFfC3qUPFdY7nxhSIu6irqouJrUYeK9yrujeXGCRX3gqAORbxW9yreiUdjuXFKEYf4TMVH9SiKivPGcuOtqKs6VHym4qbuxVUUFWeN5cZLcYh6VARFUBcVh3oU96KoOGcsN74UdYi6qps41KGu4pUoKs4Yy43T6ll8Ll4ros4ay40Toj5Tca8O8U4cgiK+MpYbp0Q9iqKIRxWv1b0i3hnLjZOibqKuiriIeqUeBUURr4zlxmlBXdSjeqcexVXUoeJzY7lxQsVFUFdR9+Ki4qIexbOoQ8VnxnLjhLgXdVEXQV1EUR/F56IOFR+N5cYPRN2r9+KVuonPjOXGjwT1rOJevFNnjOXGj0U9K+IrdRNFvDKWG78Q9VHFK/UoiHfGcuNXggrqpohH9Sju1SE+GsuNX4tD1CHqUHFRz+KmiHhlLDf+TBR1VR/FTRHx3lhu/G/ipiLOGMuNPxSHOkRdxbM4ayw3/pG6it8Yy40/F9SzOsR3jeXGPxF1VUT8zFhu/CNBXcTPjeXGPxS/N5Yby43lxnJjubHcWG4sN5Yby43lxnJjubHcWG4sN5Yby43lxnJjuf8ApomW6qK8Gm4AAAAASUVORK5C\">"
      ],
      "text/plain": [
       "60×80 Array{Gray{Float64},2} with eltype Gray{Float64}:\n",
       " Gray{Float64}(0.0)  Gray{Float64}(0.0)  …  Gray{Float64}(0.0)\n",
       " Gray{Float64}(0.0)  Gray{Float64}(0.0)     Gray{Float64}(0.0)\n",
       " Gray{Float64}(0.0)  Gray{Float64}(0.0)     Gray{Float64}(0.0)\n",
       " Gray{Float64}(0.0)  Gray{Float64}(0.0)     Gray{Float64}(0.0)\n",
       " Gray{Float64}(0.0)  Gray{Float64}(0.0)     Gray{Float64}(0.0)\n",
       " Gray{Float64}(0.0)  Gray{Float64}(0.0)  …  Gray{Float64}(0.0)\n",
       " Gray{Float64}(0.0)  Gray{Float64}(0.0)     Gray{Float64}(0.0)\n",
       " Gray{Float64}(0.0)  Gray{Float64}(0.0)     Gray{Float64}(0.0)\n",
       " Gray{Float64}(0.0)  Gray{Float64}(0.0)     Gray{Float64}(0.0)\n",
       " Gray{Float64}(0.0)  Gray{Float64}(0.0)     Gray{Float64}(0.0)\n",
       " Gray{Float64}(0.0)  Gray{Float64}(0.0)  …  Gray{Float64}(0.0)\n",
       " Gray{Float64}(0.0)  Gray{Float64}(0.0)     Gray{Float64}(0.0)\n",
       " Gray{Float64}(0.0)  Gray{Float64}(0.0)     Gray{Float64}(0.0)\n",
       " ⋮                                       ⋱  \n",
       " Gray{Float64}(0.0)  Gray{Float64}(0.0)     Gray{Float64}(0.0)\n",
       " Gray{Float64}(0.0)  Gray{Float64}(0.0)     Gray{Float64}(0.0)\n",
       " Gray{Float64}(0.0)  Gray{Float64}(0.0)  …  Gray{Float64}(0.0)\n",
       " Gray{Float64}(0.0)  Gray{Float64}(0.0)     Gray{Float64}(0.0)\n",
       " Gray{Float64}(0.0)  Gray{Float64}(0.0)     Gray{Float64}(0.0)\n",
       " Gray{Float64}(0.0)  Gray{Float64}(0.0)     Gray{Float64}(0.0)\n",
       " Gray{Float64}(0.0)  Gray{Float64}(0.0)     Gray{Float64}(0.0)\n",
       " Gray{Float64}(0.0)  Gray{Float64}(0.0)  …  Gray{Float64}(0.0)\n",
       " Gray{Float64}(0.0)  Gray{Float64}(0.0)     Gray{Float64}(0.0)\n",
       " Gray{Float64}(0.0)  Gray{Float64}(0.0)     Gray{Float64}(0.0)\n",
       " Gray{Float64}(0.0)  Gray{Float64}(0.0)     Gray{Float64}(0.0)\n",
       " Gray{Float64}(0.0)  Gray{Float64}(0.0)     Gray{Float64}(0.0)"
      ]
     },
     "execution_count": 210,
     "metadata": {},
     "output_type": "execute_result"
    }
   ],
   "source": [
    "img = load(\"images/taxi01.png\")\n",
    "\n",
    "# Convert img to grayscale\n",
    "img = Gray.(img)\n",
    "\n",
    "# Create a boolean kernel\n",
    "kernel = [true true true true true true true true]\n",
    "\n",
    "# Compute the rank transform of img\n",
    "img_rank = ranktransform(img, kernel)\n",
    "\n",
    "# Display the input image and the rank transform image\n",
    "img_rank"
   ]
  },
  {
   "cell_type": "markdown",
   "metadata": {},
   "source": [
    "Implement a Julia function censustransform(img, kernel; epsilon=0.1) that computes\n",
    "the census transform. It should calculate the census values for every location\n",
    "in a grayscale image img and return them as a 2D matrix of type UInt64. Use a\n",
    "3-valued scheme for encoding the census values: c=0 for darker image points, c=1 for\n",
    "similar pixels, c=2 for brighter image points (i.e. use a ternary basis to compute the\n",
    "census value). The intensity threshold epsilon for the similarity calculation should be\n",
    "parameterizable, as well as the census kernel. The latter should have the size 5 × 5 by\n",
    "default."
   ]
  },
  {
   "cell_type": "code",
   "execution_count": 208,
   "metadata": {},
   "outputs": [
    {
     "data": {
      "text/plain": [
       "censustransform (generic function with 1 method)"
      ]
     },
     "execution_count": 208,
     "metadata": {},
     "output_type": "execute_result"
    }
   ],
   "source": [
    "# Implement a Julia function censustransform(img, kernel; epsilon=0.1) that computes\n",
    "#   the census transform. It should calculate the census values for every location\n",
    "#   in a grayscale image img and return them as a 2D matrix of type UInt64. Use a\n",
    "#   3-valued scheme for encoding the census values: c=0 for darker image points, c=1 for\n",
    "#   similar pixels, c=2 for brighter image points (i.e. use a ternary basis to compute the\n",
    "#   census value). The intensity threshold epsilon for the similarity calculation should be\n",
    "#   parameterizable, as well as the census kernel. The latter should have the size 5 × 5 by\n",
    "#   default.\n",
    "\n",
    "function censustransform(img, kernel; epsilon=0.1)\n",
    "    # your code here\n",
    "\n",
    "    # create a new image with the same size as the input image of type UInt64\n",
    "    img_new = zeros(UInt64, size(img))\n",
    "    \n",
    "    # window is equal to size of kernel divided by 2 and floor\n",
    "    window = floor(Int, size(kernel,1)/2)\n",
    "\n",
    "    # loop over all pixels in the image\n",
    "    for i in 1+window:size(img,1) - window \n",
    "        for j in 1+window:size(img,2) - window\n",
    "          # get the value of the central pixel\n",
    "          central_pixel = img[i,j]\n",
    "\n",
    "          bit_string = \"\"\n",
    "\n",
    "          # iterate the kernel\n",
    "          for k in 1:size(kernel,1)\n",
    "            for l in 1:size(kernel,2)\n",
    "              # get the value of the neighboring pixel\n",
    "              if ((i-window+k - 1) == i && (j-window+l  - 1) == j) continue end\n",
    "              neighboring_pixel = img[i-window+k - 1,j-window+l  - 1]\n",
    "\n",
    "              # check if the neighboring pixel is darker than the central pixel\n",
    "              if neighboring_pixel < central_pixel - N0f8.(epsilon)\n",
    "                bit_string *= \"00\"\n",
    "              # check if the neighboring pixel is brighter than the central pixel\n",
    "              elseif neighboring_pixel > central_pixel + N0f8.(epsilon)\n",
    "                bit_string *= \"01\"\n",
    "              else\n",
    "                bit_string *= \"10\"\n",
    "              end\n",
    "            end\n",
    "          end\n",
    "          # bit string to integer\n",
    "          img_new[i,j] = parse(UInt64, bit_string[1:16], base=2)\n",
    "        end\n",
    "    end\n",
    "\n",
    "    # convert array to image\n",
    "    return img_new\n",
    "end"
   ]
  },
  {
   "cell_type": "code",
   "execution_count": null,
   "metadata": {},
   "outputs": [],
   "source": []
  },
  {
   "cell_type": "code",
   "execution_count": 212,
   "metadata": {},
   "outputs": [
    {
     "data": {
      "text/plain": [
       "60×80 Matrix{UInt64}:\n",
       " 0x0000000000000000  0x0000000000000000  …  0x0000000000000000\n",
       " 0x0000000000000000  0x000000000000aaaa     0x0000000000000000\n",
       " 0x0000000000000000  0x000000000000aaaa     0x0000000000000000\n",
       " 0x0000000000000000  0x000000000000aaaa     0x0000000000000000\n",
       " 0x0000000000000000  0x000000000000aaaa     0x0000000000000000\n",
       " 0x0000000000000000  0x000000000000aaaa  …  0x0000000000000000\n",
       " 0x0000000000000000  0x000000000000aaaa     0x0000000000000000\n",
       " 0x0000000000000000  0x000000000000aaaa     0x0000000000000000\n",
       " 0x0000000000000000  0x000000000000aaaa     0x0000000000000000\n",
       " 0x0000000000000000  0x000000000000aaaa     0x0000000000000000\n",
       " 0x0000000000000000  0x000000000000aaaa  …  0x0000000000000000\n",
       " 0x0000000000000000  0x000000000000aaaa     0x0000000000000000\n",
       " 0x0000000000000000  0x000000000000aaaa     0x0000000000000000\n",
       "                  ⋮                      ⋱  \n",
       " 0x0000000000000000  0x000000000000aaaa     0x0000000000000000\n",
       " 0x0000000000000000  0x000000000000aaaa     0x0000000000000000\n",
       " 0x0000000000000000  0x000000000000aaaa  …  0x0000000000000000\n",
       " 0x0000000000000000  0x000000000000aaaa     0x0000000000000000\n",
       " 0x0000000000000000  0x000000000000aaaa     0x0000000000000000\n",
       " 0x0000000000000000  0x000000000000aaaa     0x0000000000000000\n",
       " 0x0000000000000000  0x000000000000aaaa     0x0000000000000000\n",
       " 0x0000000000000000  0x000000000000aaaa  …  0x0000000000000000\n",
       " 0x0000000000000000  0x000000000000aaaa     0x0000000000000000\n",
       " 0x0000000000000000  0x000000000000aaaa     0x0000000000000000\n",
       " 0x0000000000000000  0x000000000000aaaa     0x0000000000000000\n",
       " 0x0000000000000000  0x0000000000000000     0x0000000000000000"
      ]
     },
     "execution_count": 212,
     "metadata": {},
     "output_type": "execute_result"
    }
   ],
   "source": [
    "# create a 2 dimensional array of size 5x5 with boolean values\n",
    "# kernel = [\n",
    "#   true true true true true;\n",
    "#   true true true true true;\n",
    "#   true true true true true;\n",
    "#   true true true true true;\n",
    "#   true true true true true;\n",
    "#   ]\n",
    "kernel = [\n",
    "  true true true;\n",
    "  true true true;\n",
    "  true true true;\n",
    "  ]\n",
    "\n",
    "# Compute the census transform of img\n",
    "img_census = censustransform(img, kernel)\n",
    "img_census"
   ]
  }
 ],
 "metadata": {
  "kernelspec": {
   "display_name": "Julia 1.8.2",
   "language": "julia",
   "name": "julia-1.8"
  },
  "language_info": {
   "file_extension": ".jl",
   "mimetype": "application/julia",
   "name": "julia",
   "version": "1.8.2"
  },
  "orig_nbformat": 4
 },
 "nbformat": 4,
 "nbformat_minor": 2
}
