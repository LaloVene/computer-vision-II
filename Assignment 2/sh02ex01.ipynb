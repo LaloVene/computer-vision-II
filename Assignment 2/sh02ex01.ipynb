{
 "cells": [
  {
   "cell_type": "markdown",
   "metadata": {},
   "source": [
    "# Assignment 2.1 Rank- and Census-Transform\n",
    "---\n",
    "Group 3:\n",
    "* Jiye Lee\n",
    "* Eduardo Venegas Hernández\n",
    "---"
   ]
  },
  {
   "cell_type": "markdown",
   "metadata": {},
   "source": [
    "Import Libraries"
   ]
  },
  {
   "cell_type": "code",
   "execution_count": 26,
   "metadata": {},
   "outputs": [],
   "source": [
    "import Pkg\n",
    "\n",
    "using Images\n",
    "using FileIO\n",
    "using Plots"
   ]
  },
  {
   "cell_type": "markdown",
   "metadata": {},
   "source": [
    "In this task, features for the rank and census transform are computed. In the next task, these\n",
    "descriptors are used to implement a motion detector by matching points across images."
   ]
  },
  {
   "cell_type": "markdown",
   "metadata": {},
   "source": [
    "1. Write a Julia function ranktransform(img, kernel; epsilon=0.1) that implements the rank transform. It should take a grayscale input image img and compute the rank value of each pixel by comparing it to the neighboring locations selected by the boolean array kernel. The value epsilon serves as a tolerance threshold, i.e., instead of testing whether the central pixel is larger than its neighbors, the function should test whether the central pixel value is larger by a margin of at least epsilon."
   ]
  },
  {
   "cell_type": "code",
   "execution_count": 42,
   "metadata": {},
   "outputs": [
    {
     "data": {
      "text/plain": [
       "ranktransform (generic function with 1 method)"
      ]
     },
     "execution_count": 42,
     "metadata": {},
     "output_type": "execute_result"
    }
   ],
   "source": [
    "# Write a Julia function ranktransform(img, kernel; epsilon=0.1) that implements\n",
    "#   the rank transform. It should take a grayscale input image img and compute the\n",
    "#   rank value of each pixel by comparing it to the neighboring locations selected by the\n",
    "#   boolean array kernel. The value epsilon serves as a tolerance threshold, i.e., instead\n",
    "#   of testing whether the central pixel is larger than its neighbors, the function should\n",
    "#   test whether the central pixel value is larger by a margin of at least epsilon.\n",
    "\n",
    "# kernel example\n",
    "# kernel = [true false true false false false true false]\n",
    "\n",
    "function ranktransform(img, kernel; epsilon=0.1)\n",
    "    # your code here\n",
    "\n",
    "    # create a new image with the same size as the input image\n",
    "    img_new = zeros(size(img))\n",
    "\n",
    "    # size of kernel always 8\n",
    "\n",
    "    # loop over all pixels in the image\n",
    "    for i in 2:size(img,1) -1 \n",
    "        for j in 2:size(img,2) -1\n",
    "\n",
    "            # get the value of the central pixel\n",
    "            central_pixel = img[i,j]\n",
    "\n",
    "            # get the values of the neighboring pixels\n",
    "\n",
    "            # get the value of the top left pixel\n",
    "            top_left_pixel = img[i-1,j-1]\n",
    "\n",
    "            # get the value of the top pixel\n",
    "            top_pixel = img[i-1,j]\n",
    "\n",
    "            # get the value of the top right pixel\n",
    "            top_right_pixel = img[i-1,j+1]\n",
    "\n",
    "            # get the value of the left pixel\n",
    "            left_pixel = img[i,j-1]\n",
    "\n",
    "            # get the value of the right pixel\n",
    "            right_pixel = img[i,j+1]\n",
    "\n",
    "            # get the value of the bottom left pixel\n",
    "            bottom_left_pixel = img[i+1,j-1]\n",
    "\n",
    "            # get the value of the bottom pixel\n",
    "            bottom_pixel = img[i+1,j]\n",
    "\n",
    "            # get the value of the bottom right pixel\n",
    "            bottom_right_pixel = img[i+1,j+1]\n",
    "\n",
    "            # get the values of the neighboring pixels into an array\n",
    "            neighboring_pixels = [top_left_pixel top_pixel top_right_pixel left_pixel right_pixel bottom_left_pixel bottom_pixel bottom_right_pixel]\n",
    "\n",
    "            # keep the values of the neighboring pixels where the kernel is true\n",
    "            neighboring_pixels = neighboring_pixels[kernel]\n",
    "\n",
    "            # get the number of neighboring pixels that are smaller than the central pixel + epsilon\n",
    "            number_of_larger_pixels = sum(neighboring_pixels .< (central_pixel - N0f8.(epsilon)))\n",
    "\n",
    "            # put the rank value into the new image\n",
    "            img_new[i,j] = number_of_larger_pixels\n",
    "        end\n",
    "    end\n",
    "\n",
    "    # convert array to image\n",
    "    img_new = Gray.(img_new)\n",
    "    return img_new\n",
    "end"
   ]
  },
  {
   "cell_type": "code",
   "execution_count": 82,
   "metadata": {},
   "outputs": [
    {
     "data": {
      "image/png": "[encoded data removed]",
      "text/html": [
       "<img src=\"data:image/png;base64,iVBORw0KGgoAAAANSUhEUgAAAKAAAAB4CAAAAABQyaazAAAABGdBTUEAALGPC/xhBQAAAAFzUkdCAK7OHOkAAAAgY0hSTQAAeiYAAICEAAD6AAAAgOgAAHUwAADqYAAAOpgAABdwnLpRPAAABDZJREFUeAHNwQtyI0cWBDBkxLv/lXNVarf5EUlRGntdwNjc2Nz4ULeilqhrUd+L+qfE2NxQRC1RFFFL1KmWqGei6p80Njc+RB3qVBR1EUUtUVFL1KFei1qi3jM2Nz7UIWqJWqKeKepQj0SdopYiqu4F9dXY3HigDnWIiqpT1K2oJSqKuqiLOkQRtdQSdWtsbnyIWuoUtURFUaeouleHot5RS12rU9QyNjc+1EUUdSjqWtQpKqhT1DuiXiuCsbnxKYqoWqK+iqqoQ1G/Ue8amxufiliCqiVqCSoORVRU1LV6LOo9UaeKsbkhKoqiLmqJWuoURVHvqXtRUffq1tjcUBT1WBG1RFFEBbVEHaLeUdQpiqh7Y3PjgahTFEVQp6KWqDrVvagl6lrUqZY6RR3G5sYXUURF1aluRS31Wh3qVj1Xp7G5cSOqiKIuok5R1LWoKKIeCeq5qK/G5sbfoupQ16Lqor4qaqkliqhTvVaPjM2ND1FRF1FE/VYt9UzUO8bmxoeirtVSh3pf1DvqPWNzQ1CnqCUq6rkook5R9VzUM1GPjM0NtUQtdSjqlVrqol6r52oJ6trY3PhLfS/q31X3xubGhyiiTlFf1buiiHosKup7Y3PjQ0XVEkX9VhS11DNFLVFLFFG3xubGp4qKqj9TBPVK1KEOtdS9sbnxl6IOUb8VVfFa3Yp6bGxuiIo6RNX3oh6ppaLeV8+MzQ11rd4R9VrdiroX9Z2xufGpTlHXor6qn4n6qr43Njfu1K36E1FRS9TPjc0NUVG/E9RjURRF/cbY3PhUpyii3lPP1TNR7xmbG+oQdap/V92KuhZ1GJsbfyvisah/U92q09jcuFGP1X9lbG78R6KivjM2N0QtUf8fUUV9b2xuqJ+J+hNB1HeiGJsbf6tT1HP1U1GHqHpPLWNz40PUtSLqlaifCKqei/pqbG58qK/qtXpfUa9E1b1gbG78kahXgvpePVIxNjdeilqiou7Va/VM1DvG5oaoZ+pQ1CtR74qqV6IOY3ND3Yq6iCLqtXpfnYL6qk5jc+NTUIdaopZaiqiof1LFY1HL2Nz4VPfqXlH/tHqsDmNzQ9S9qMeiLqK+F/WeqFtjc0N9VY9E1bV6R92LeqTujc2NN0XVvaivoh6JpaLeNTY33lQXUVHUI/VYHep9Y3PjQ9RPFPW+qKB+JhibGx/qEEXUraB+r6j4qYqxuXGlllqiCKqIIqjfqd8YmxsPRNVSQVQttURFXYv6rahnxubGA3VRFFFEUVQUUVF1ivqdqEPUYWxufArquailDkGdaomKqp8qoi7qNDY3PtUzUdQSdahTnYoi6lpU1GtFXUQtY3PjG3VRREUtUVFRUYdaoqIo6pGoZ+owNjeuRN2KIooo6hRFUdQSFRVFLVGHoA5RdS3qq7G5IS7iXiyxxCmW+CoI4iIu4hT34quxuf8BYeEEJdHb8TkAAAAASUVORK5C\">"
      ],
      "text/plain": [
       "60×80 Array{Gray{Float64},2} with eltype Gray{Float64}:\n",
       " Gray{Float64}(0.0)  Gray{Float64}(0.0)  …  Gray{Float64}(0.0)\n",
       " Gray{Float64}(0.0)  Gray{Float64}(0.0)     Gray{Float64}(0.0)\n",
       " Gray{Float64}(0.0)  Gray{Float64}(3.0)     Gray{Float64}(0.0)\n",
       " Gray{Float64}(0.0)  Gray{Float64}(1.0)     Gray{Float64}(0.0)\n",
       " Gray{Float64}(0.0)  Gray{Float64}(6.0)     Gray{Float64}(0.0)\n",
       " Gray{Float64}(0.0)  Gray{Float64}(1.0)  …  Gray{Float64}(0.0)\n",
       " Gray{Float64}(0.0)  Gray{Float64}(8.0)     Gray{Float64}(0.0)\n",
       " Gray{Float64}(0.0)  Gray{Float64}(2.0)     Gray{Float64}(0.0)\n",
       " Gray{Float64}(0.0)  Gray{Float64}(5.0)     Gray{Float64}(0.0)\n",
       " Gray{Float64}(0.0)  Gray{Float64}(3.0)     Gray{Float64}(0.0)\n",
       " Gray{Float64}(0.0)  Gray{Float64}(0.0)  …  Gray{Float64}(0.0)\n",
       " Gray{Float64}(0.0)  Gray{Float64}(3.0)     Gray{Float64}(0.0)\n",
       " Gray{Float64}(0.0)  Gray{Float64}(2.0)     Gray{Float64}(0.0)\n",
       " ⋮                                       ⋱  \n",
       " Gray{Float64}(0.0)  Gray{Float64}(2.0)     Gray{Float64}(0.0)\n",
       " Gray{Float64}(0.0)  Gray{Float64}(2.0)     Gray{Float64}(0.0)\n",
       " Gray{Float64}(0.0)  Gray{Float64}(2.0)  …  Gray{Float64}(0.0)\n",
       " Gray{Float64}(0.0)  Gray{Float64}(4.0)     Gray{Float64}(0.0)\n",
       " Gray{Float64}(0.0)  Gray{Float64}(4.0)     Gray{Float64}(0.0)\n",
       " Gray{Float64}(0.0)  Gray{Float64}(4.0)     Gray{Float64}(0.0)\n",
       " Gray{Float64}(0.0)  Gray{Float64}(3.0)     Gray{Float64}(0.0)\n",
       " Gray{Float64}(0.0)  Gray{Float64}(1.0)  …  Gray{Float64}(0.0)\n",
       " Gray{Float64}(0.0)  Gray{Float64}(7.0)     Gray{Float64}(0.0)\n",
       " Gray{Float64}(0.0)  Gray{Float64}(3.0)     Gray{Float64}(0.0)\n",
       " Gray{Float64}(0.0)  Gray{Float64}(2.0)     Gray{Float64}(0.0)\n",
       " Gray{Float64}(0.0)  Gray{Float64}(0.0)     Gray{Float64}(0.0)"
      ]
     },
     "metadata": {},
     "output_type": "display_data"
    },
    {
     "name": "stdout",
     "output_type": "stream",
     "text": [
      "Rank transform with epsilon = 0\n"
     ]
    },
    {
     "data": {
      "image/png": "[encoded data removed]",
      "text/html": [
       "<img src=\"data:image/png;base64,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\">"
      ],
      "text/plain": [
       "60×80 Array{Gray{Float64},2} with eltype Gray{Float64}:\n",
       " Gray{Float64}(0.0)  Gray{Float64}(0.0)  …  Gray{Float64}(0.0)\n",
       " Gray{Float64}(0.0)  Gray{Float64}(0.0)     Gray{Float64}(0.0)\n",
       " Gray{Float64}(0.0)  Gray{Float64}(2.0)     Gray{Float64}(0.0)\n",
       " Gray{Float64}(0.0)  Gray{Float64}(0.0)     Gray{Float64}(0.0)\n",
       " Gray{Float64}(0.0)  Gray{Float64}(2.0)     Gray{Float64}(0.0)\n",
       " Gray{Float64}(0.0)  Gray{Float64}(0.0)  …  Gray{Float64}(0.0)\n",
       " Gray{Float64}(0.0)  Gray{Float64}(4.0)     Gray{Float64}(0.0)\n",
       " Gray{Float64}(0.0)  Gray{Float64}(0.0)     Gray{Float64}(0.0)\n",
       " Gray{Float64}(0.0)  Gray{Float64}(0.0)     Gray{Float64}(0.0)\n",
       " Gray{Float64}(0.0)  Gray{Float64}(0.0)     Gray{Float64}(0.0)\n",
       " Gray{Float64}(0.0)  Gray{Float64}(0.0)  …  Gray{Float64}(0.0)\n",
       " Gray{Float64}(0.0)  Gray{Float64}(1.0)     Gray{Float64}(0.0)\n",
       " Gray{Float64}(0.0)  Gray{Float64}(1.0)     Gray{Float64}(0.0)\n",
       " ⋮                                       ⋱  \n",
       " Gray{Float64}(0.0)  Gray{Float64}(0.0)     Gray{Float64}(0.0)\n",
       " Gray{Float64}(0.0)  Gray{Float64}(0.0)     Gray{Float64}(0.0)\n",
       " Gray{Float64}(0.0)  Gray{Float64}(0.0)  …  Gray{Float64}(0.0)\n",
       " Gray{Float64}(0.0)  Gray{Float64}(1.0)     Gray{Float64}(0.0)\n",
       " Gray{Float64}(0.0)  Gray{Float64}(3.0)     Gray{Float64}(0.0)\n",
       " Gray{Float64}(0.0)  Gray{Float64}(4.0)     Gray{Float64}(0.0)\n",
       " Gray{Float64}(0.0)  Gray{Float64}(0.0)     Gray{Float64}(0.0)\n",
       " Gray{Float64}(0.0)  Gray{Float64}(0.0)  …  Gray{Float64}(0.0)\n",
       " Gray{Float64}(0.0)  Gray{Float64}(4.0)     Gray{Float64}(0.0)\n",
       " Gray{Float64}(0.0)  Gray{Float64}(1.0)     Gray{Float64}(0.0)\n",
       " Gray{Float64}(0.0)  Gray{Float64}(0.0)     Gray{Float64}(0.0)\n",
       " Gray{Float64}(0.0)  Gray{Float64}(0.0)     Gray{Float64}(0.0)"
      ]
     },
     "metadata": {},
     "output_type": "display_data"
    },
    {
     "name": "stdout",
     "output_type": "stream",
     "text": [
      "Rank transform with epsilon = 0.01\n"
     ]
    },
    {
     "data": {
      "image/png": "[encoded data removed]",
      "text/html": [
       "<img src=\"data:image/png;base64,iVBORw0KGgoAAAANSUhEUgAAAKAAAAB4CAAAAABQyaazAAAABGdBTUEAALGPC/xhBQAAAAFzUkdCAK7OHOkAAAAgY0hSTQAAeiYAAICEAAD6AAAAgOgAAHUwAADqYAAAOpgAABdwnLpRPAAAAn1JREFUeAHNwQlqIwkQBMBIqP9/OZdGCB225PYxS0WM5cZyY6k6xFhuLBUUY7mxWDCWG8uN5cZyY7mx3FhuLDeWG8uN5cZyY7mx3FhuLDeWG8uN5cYqFY/GcuMX6iL+Sjwby41vq2dFnFcX8bWx3PiWehTUoYi6iVfivLHcOKnuxU1Qh4pDHYp4pQ7xlbHcOKFu4pU41L0iPhPnjOXGW3UT79VNXBRF/NRYbrxUN/EdcRV1qPiZsdz4Qjyrq7iKV4KiiO8by41vqXtFfC3qUPFdY7nxhSIu6irqouJrUYeK9yrujeXGCRX3gqAORbxW9yreiUdjuXFKEYf4TMVH9SiKivPGcuOtqKs6VHym4qbuxVUUFWeN5cZLcYh6VARFUBcVh3oU96KoOGcsN74UdYi6qps41KGu4pUoKs4Yy43T6ll8Ll4ros4ay40Toj5Tca8O8U4cgiK+MpYbp0Q9iqKIRxWv1b0i3hnLjZOibqKuiriIeqUeBUURr4zlxmlBXdSjeqcexVXUoeJzY7lxQsVFUFdR9+Ki4qIexbOoQ8VnxnLjhLgXdVEXQV1EUR/F56IOFR+N5cYPRN2r9+KVuonPjOXGjwT1rOJevFNnjOXGj0U9K+IrdRNFvDKWG78Q9VHFK/UoiHfGcuNXggrqpohH9Sju1SE+GsuNX4tD1CHqUHFRz+KmiHhlLDf+TBR1VR/FTRHx3lhu/G/ipiLOGMuNPxSHOkRdxbM4ayw3/pG6it8Yy40/F9SzOsR3jeXGPxF1VUT8zFhu/CNBXcTPjeXGPxS/N5Yby43lxnJjubHcWG4sN5Yby43lxnJjubHcWG4sN5Yby43lxnJjuf8ApomW6qK8Gm4AAAAASUVORK5C\">"
      ],
      "text/plain": [
       "60×80 Array{Gray{Float64},2} with eltype Gray{Float64}:\n",
       " Gray{Float64}(0.0)  Gray{Float64}(0.0)  …  Gray{Float64}(0.0)\n",
       " Gray{Float64}(0.0)  Gray{Float64}(0.0)     Gray{Float64}(0.0)\n",
       " Gray{Float64}(0.0)  Gray{Float64}(0.0)     Gray{Float64}(0.0)\n",
       " Gray{Float64}(0.0)  Gray{Float64}(0.0)     Gray{Float64}(0.0)\n",
       " Gray{Float64}(0.0)  Gray{Float64}(0.0)     Gray{Float64}(0.0)\n",
       " Gray{Float64}(0.0)  Gray{Float64}(0.0)  …  Gray{Float64}(0.0)\n",
       " Gray{Float64}(0.0)  Gray{Float64}(0.0)     Gray{Float64}(0.0)\n",
       " Gray{Float64}(0.0)  Gray{Float64}(0.0)     Gray{Float64}(0.0)\n",
       " Gray{Float64}(0.0)  Gray{Float64}(0.0)     Gray{Float64}(0.0)\n",
       " Gray{Float64}(0.0)  Gray{Float64}(0.0)     Gray{Float64}(0.0)\n",
       " Gray{Float64}(0.0)  Gray{Float64}(0.0)  …  Gray{Float64}(0.0)\n",
       " Gray{Float64}(0.0)  Gray{Float64}(0.0)     Gray{Float64}(0.0)\n",
       " Gray{Float64}(0.0)  Gray{Float64}(0.0)     Gray{Float64}(0.0)\n",
       " ⋮                                       ⋱  \n",
       " Gray{Float64}(0.0)  Gray{Float64}(0.0)     Gray{Float64}(0.0)\n",
       " Gray{Float64}(0.0)  Gray{Float64}(0.0)     Gray{Float64}(0.0)\n",
       " Gray{Float64}(0.0)  Gray{Float64}(0.0)  …  Gray{Float64}(0.0)\n",
       " Gray{Float64}(0.0)  Gray{Float64}(0.0)     Gray{Float64}(0.0)\n",
       " Gray{Float64}(0.0)  Gray{Float64}(0.0)     Gray{Float64}(0.0)\n",
       " Gray{Float64}(0.0)  Gray{Float64}(0.0)     Gray{Float64}(0.0)\n",
       " Gray{Float64}(0.0)  Gray{Float64}(0.0)     Gray{Float64}(0.0)\n",
       " Gray{Float64}(0.0)  Gray{Float64}(0.0)  …  Gray{Float64}(0.0)\n",
       " Gray{Float64}(0.0)  Gray{Float64}(0.0)     Gray{Float64}(0.0)\n",
       " Gray{Float64}(0.0)  Gray{Float64}(0.0)     Gray{Float64}(0.0)\n",
       " Gray{Float64}(0.0)  Gray{Float64}(0.0)     Gray{Float64}(0.0)\n",
       " Gray{Float64}(0.0)  Gray{Float64}(0.0)     Gray{Float64}(0.0)"
      ]
     },
     "metadata": {},
     "output_type": "display_data"
    },
    {
     "name": "stdout",
     "output_type": "stream",
     "text": [
      "Rank transform with epsilon = 0.1\n"
     ]
    }
   ],
   "source": [
    "img = load(\"images/taxi01.png\")\n",
    "# Convert img to grayscale\n",
    "img = Gray.(img)\n",
    "\n",
    "# Create a boolean kernel\n",
    "kernel = [true true true true true true true true]\n",
    "\n",
    "# Compute the rank transform of img\n",
    "img_rank1 = ranktransform(img, kernel; epsilon=0)\n",
    "img_rank2 = ranktransform(img, kernel; epsilon=0.01)\n",
    "img_rank3 = ranktransform(img, kernel)\n",
    "\n",
    "\n",
    "# Display the input image and the rank transform image\n",
    "display(img_rank1)\n",
    "println(\"Rank transform with epsilon = 0\")\n",
    "display(img_rank2)\n",
    "println(\"Rank transform with epsilon = 0.01\")\n",
    "display(img_rank3)\n",
    "println(\"Rank transform with epsilon = 0.1\")"
   ]
  },
  {
   "cell_type": "markdown",
   "metadata": {},
   "source": [
    "2. Implement a Julia function censustransform(img, kernel; epsilon=0.1) that computes the census transform. It should calculate the census values for every location in a grayscale image img and return them as a 2D matrix of type UInt64. Use a 3-valued scheme for encoding the census values: c=0 for darker image points, c=1 for similar pixels, c=2 for brighter image points (i.e. use a ternary basis to compute the census value). The intensity threshold epsilon for the similarity calculation should be parameterizable, as well as the census kernel. The latter should have the size 5 × 5 by default."
   ]
  },
  {
   "cell_type": "code",
   "execution_count": 74,
   "metadata": {},
   "outputs": [
    {
     "data": {
      "text/plain": [
       "censustransform (generic function with 1 method)"
      ]
     },
     "execution_count": 74,
     "metadata": {},
     "output_type": "execute_result"
    }
   ],
   "source": [
    "# Implement a Julia function censustransform(img, kernel; epsilon=0.1) that computes\n",
    "#   the census transform. It should calculate the census values for every location\n",
    "#   in a grayscale image img and return them as a 2D matrix of type UInt64. Use a\n",
    "#   3-valued scheme for encoding the census values: c=0 for darker image points, c=1 for\n",
    "#   similar pixels, c=2 for brighter image points (i.e. use a ternary basis to compute the\n",
    "#   census value). The intensity threshold epsilon for the similarity calculation should be\n",
    "#   parameterizable, as well as the census kernel. The latter should have the size 5 × 5 by\n",
    "#   default.\n",
    "\n",
    "function censustransform(img, kernel; epsilon=0.7)\n",
    "    # your code here\n",
    "\n",
    "    # create a new image with the same size as the input image of type UInt64\n",
    "    img_new = zeros(UInt64, size(img))\n",
    "    \n",
    "    # window is equal to size of kernel divided by 2 and floor\n",
    "    window = floor(Int, size(kernel,1)/2)\n",
    "\n",
    "    # loop over all pixels in the image\n",
    "    for i in 1+window:size(img,1) - window \n",
    "        for j in 1+window:size(img,2) - window\n",
    "          # get the value of the central pixel\n",
    "          central_pixel = img[i,j]\n",
    "\n",
    "          bit_string = \"\"\n",
    "\n",
    "\n",
    "          # iterate the kernel\n",
    "          for k in 1:size(kernel,1)\n",
    "            for l in 1:size(kernel,2)\n",
    "              # get the value of the neighboring pixel\n",
    "              if ((i-window+k - 1) == i && (j-window+l  - 1) == j) continue end\n",
    "              neighboring_pixel = img[i-window+k - 1,j-window+l  - 1]\n",
    "\n",
    "              # check if the neighboring pixel is darker than the central pixel\n",
    "              if (neighboring_pixel < central_pixel - N0f8.(epsilon))\n",
    "                bit_string = bit_string * \"10\"\n",
    "              # check if the neighboring pixel is brighter than the central pixel\n",
    "              elseif (neighboring_pixel > central_pixel + N0f8.(epsilon))\n",
    "                bit_string = bit_string * \"00\"\n",
    "              # check if the neighboring pixel is similar to the central pixel\n",
    "              else\n",
    "                bit_string = bit_string * \"01\"\n",
    "              end\n",
    "            end\n",
    "          end\n",
    "          # print bit_string\n",
    "          # convert bit string to UInt64\n",
    "          img_new[i,j] = parse(UInt64, bit_string, base=2)\n",
    "        end\n",
    "    end\n",
    "\n",
    "    # convert array to image\n",
    "    return img_new\n",
    "end"
   ]
  },
  {
   "cell_type": "markdown",
   "metadata": {},
   "source": [
    "3. Test your implementations on the images provided with the assignment, e.g.: taxi01.png. The results may vary depending on the implementation, kernel and intensity threshold, but the structures of the original image should be recognizable (see example results)."
   ]
  },
  {
   "cell_type": "code",
   "execution_count": 79,
   "metadata": {},
   "outputs": [],
   "source": [
    "# create a 2 dimensional array of size 5x5 with boolean values\n",
    " kernel = [\n",
    "  true true true true true;\n",
    "  true true true true true;\n",
    "  true true true true true;\n",
    "  true true true true true;\n",
    "  true true true true true;\n",
    "  ]\n",
    "# kernel = [\n",
    "#   true true true;\n",
    "#   true true true;\n",
    "#   true true true;\n",
    "#   ]\n",
    "\n",
    "# Compute the census transform of img\n",
    "img_census1 = censustransform(img, kernel; epsilon=0.01);\n",
    "img_census2 = censustransform(img, kernel; epsilon=0.1); \n",
    "img_census3 = censustransform(img, kernel; epsilon=0.5);"
   ]
  },
  {
   "cell_type": "code",
   "execution_count": 83,
   "metadata": {},
   "outputs": [
    {
     "data": {
      "image/png": "[encoded data removed]",
      "text/html": [
       "<img src=\"data:image/png;base64,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\">"
      ],
      "text/plain": [
       "60×80 Array{Gray{Float64},2} with eltype Gray{Float64}:\n",
       " Gray{Float64}(0.0)  Gray{Float64}(0.0)  …  Gray{Float64}(0.0)\n",
       " Gray{Float64}(0.0)  Gray{Float64}(0.0)     Gray{Float64}(0.0)\n",
       " Gray{Float64}(0.0)  Gray{Float64}(0.0)     Gray{Float64}(0.0)\n",
       " Gray{Float64}(0.0)  Gray{Float64}(0.0)     Gray{Float64}(0.0)\n",
       " Gray{Float64}(0.0)  Gray{Float64}(0.0)     Gray{Float64}(0.0)\n",
       " Gray{Float64}(0.0)  Gray{Float64}(0.0)  …  Gray{Float64}(0.0)\n",
       " Gray{Float64}(0.0)  Gray{Float64}(0.0)     Gray{Float64}(0.0)\n",
       " Gray{Float64}(0.0)  Gray{Float64}(0.0)     Gray{Float64}(0.0)\n",
       " Gray{Float64}(0.0)  Gray{Float64}(0.0)     Gray{Float64}(0.0)\n",
       " Gray{Float64}(0.0)  Gray{Float64}(0.0)     Gray{Float64}(0.0)\n",
       " Gray{Float64}(0.0)  Gray{Float64}(0.0)  …  Gray{Float64}(0.0)\n",
       " Gray{Float64}(0.0)  Gray{Float64}(0.0)     Gray{Float64}(0.0)\n",
       " Gray{Float64}(0.0)  Gray{Float64}(0.0)     Gray{Float64}(0.0)\n",
       " ⋮                                       ⋱  \n",
       " Gray{Float64}(0.0)  Gray{Float64}(0.0)     Gray{Float64}(0.0)\n",
       " Gray{Float64}(0.0)  Gray{Float64}(0.0)     Gray{Float64}(0.0)\n",
       " Gray{Float64}(0.0)  Gray{Float64}(0.0)  …  Gray{Float64}(0.0)\n",
       " Gray{Float64}(0.0)  Gray{Float64}(0.0)     Gray{Float64}(0.0)\n",
       " Gray{Float64}(0.0)  Gray{Float64}(0.0)     Gray{Float64}(0.0)\n",
       " Gray{Float64}(0.0)  Gray{Float64}(0.0)     Gray{Float64}(0.0)\n",
       " Gray{Float64}(0.0)  Gray{Float64}(0.0)     Gray{Float64}(0.0)\n",
       " Gray{Float64}(0.0)  Gray{Float64}(0.0)  …  Gray{Float64}(0.0)\n",
       " Gray{Float64}(0.0)  Gray{Float64}(0.0)     Gray{Float64}(0.0)\n",
       " Gray{Float64}(0.0)  Gray{Float64}(0.0)     Gray{Float64}(0.0)\n",
       " Gray{Float64}(0.0)  Gray{Float64}(0.0)     Gray{Float64}(0.0)\n",
       " Gray{Float64}(0.0)  Gray{Float64}(0.0)     Gray{Float64}(0.0)"
      ]
     },
     "metadata": {},
     "output_type": "display_data"
    },
    {
     "name": "stdout",
     "output_type": "stream",
     "text": [
      "Census transform with epsilon = 0.01"
     ]
    },
    {
     "data": {
      "image/png": "[encoded data removed]",
      "text/html": [
       "<img src=\"data:image/png;base64,iVBORw0KGgoAAAANSUhEUgAAAKAAAAB4CAAAAABQyaazAAAABGdBTUEAALGPC/xhBQAAAAFzUkdCAK7OHOkAAAAgY0hSTQAAeiYAAICEAAD6AAAAgOgAAHUwAADqYAAAOpgAABdwnLpRPAAAAsFJREFUeAHNwTFOm2ccB+DndX9BvUHDEnOEdGlXe+oZOhG23KBbhXKKTIA69RZm7ZTcoPmm5gaRIpG3sZAFCcY28JH8nyeKi+KiuCguPutqaojiorgoLoqL4qK4KC6Ki+KiuCguioviorgoLoqL4qK4KC6Ki+KiuCguioviorgoLr6Lhm4XUVw80LmZu+t2FcXFPTVXFmZo6MYWxcWdNV+b6+geQxQXd9Cst3BTw8LMQ0VxsaPmuq7ZpFmaW5h5mCgutmpuauiarmHuNnMszNxfFBdbNNd1zcq+p3Yxt8DM/URxsUXXXJloOpon9nz0q+5nb202R3c/UVxs1dEsdUc49aU3mk26hoZDZ+4qiouNGjo6znHqpn2/+EezzgtnmksTfztw7G6iuNioeWJp6tAr6zTPvMdzb13pmqUzSxN7/nDsPqK42OiTSwOmBjf9aGnfU12z0qy80Jy4vygudjZY54Mrz721MrHnqUPHHiaKixG9MdFw6MRYorgY1Sdji+JiZ1MMLv3plW8jioudDa68MoZzM9tEcfFdNJcWmNkkiotRnZvZrLlubmGzKC5GNXNu5jbNTXN0t4viYjTN0sI6zXpdQ3PozHpRXIxiatDRfKm5Xdc0l5ojp9aJ4mIE+1Y6mm26hmZpYs9Hf7mwXhQXI3iPpmOKrrlN19BcOnJimyguRnDgPz+ZGgyY6mi+1DU0KxMXdhHFxQj+dd2Aqa5Z6ZpmZeLQiV1FcTG6A+8Mpp4Z0NCsHDlx5Qfs+WCTKC5G1y0NpvZdN3HhSxe2i+JiZAcGlwYHfvfemYk9H1x56bVdRXExsneWpga8s3Tqa6/tLoqLRzFY58ipu4ri4pt56dTdRXHxiKY++k1zaum1+4ji4hENOHbsIaK4eGTHHiaKi+KiuCguioviorgoLoqL4qK4KC6Ki8+auqK4KC6K+x8eMnjGIRIboQAAAABJRU5ErkJg\">"
      ],
      "text/plain": [
       "60×80 Array{Gray{Float64},2} with eltype Gray{Float64}:\n",
       " Gray{Float64}(0.0)  Gray{Float64}(0.0)  …  Gray{Float64}(0.0)\n",
       " Gray{Float64}(0.0)  Gray{Float64}(0.0)     Gray{Float64}(0.0)\n",
       " Gray{Float64}(0.0)  Gray{Float64}(0.0)     Gray{Float64}(0.0)\n",
       " Gray{Float64}(0.0)  Gray{Float64}(0.0)     Gray{Float64}(0.0)\n",
       " Gray{Float64}(0.0)  Gray{Float64}(0.0)     Gray{Float64}(0.0)\n",
       " Gray{Float64}(0.0)  Gray{Float64}(0.0)  …  Gray{Float64}(0.0)\n",
       " Gray{Float64}(0.0)  Gray{Float64}(0.0)     Gray{Float64}(0.0)\n",
       " Gray{Float64}(0.0)  Gray{Float64}(0.0)     Gray{Float64}(0.0)\n",
       " Gray{Float64}(0.0)  Gray{Float64}(0.0)     Gray{Float64}(0.0)\n",
       " Gray{Float64}(0.0)  Gray{Float64}(0.0)     Gray{Float64}(0.0)\n",
       " Gray{Float64}(0.0)  Gray{Float64}(0.0)  …  Gray{Float64}(0.0)\n",
       " Gray{Float64}(0.0)  Gray{Float64}(0.0)     Gray{Float64}(0.0)\n",
       " Gray{Float64}(0.0)  Gray{Float64}(0.0)     Gray{Float64}(0.0)\n",
       " ⋮                                       ⋱  \n",
       " Gray{Float64}(0.0)  Gray{Float64}(0.0)     Gray{Float64}(0.0)\n",
       " Gray{Float64}(0.0)  Gray{Float64}(0.0)     Gray{Float64}(0.0)\n",
       " Gray{Float64}(0.0)  Gray{Float64}(0.0)  …  Gray{Float64}(0.0)\n",
       " Gray{Float64}(0.0)  Gray{Float64}(0.0)     Gray{Float64}(0.0)\n",
       " Gray{Float64}(0.0)  Gray{Float64}(0.0)     Gray{Float64}(0.0)\n",
       " Gray{Float64}(0.0)  Gray{Float64}(0.0)     Gray{Float64}(0.0)\n",
       " Gray{Float64}(0.0)  Gray{Float64}(0.0)     Gray{Float64}(0.0)\n",
       " Gray{Float64}(0.0)  Gray{Float64}(0.0)  …  Gray{Float64}(0.0)\n",
       " Gray{Float64}(0.0)  Gray{Float64}(0.0)     Gray{Float64}(0.0)\n",
       " Gray{Float64}(0.0)  Gray{Float64}(0.0)     Gray{Float64}(0.0)\n",
       " Gray{Float64}(0.0)  Gray{Float64}(0.0)     Gray{Float64}(0.0)\n",
       " Gray{Float64}(0.0)  Gray{Float64}(0.0)     Gray{Float64}(0.0)"
      ]
     },
     "metadata": {},
     "output_type": "display_data"
    },
    {
     "name": "stdout",
     "output_type": "stream",
     "text": [
      "\n",
      "Census transform with epsilon = 0.1\n"
     ]
    },
    {
     "data": {
      "image/png": "[encoded data removed]",
      "text/html": [
       "<img src=\"data:image/png;base64,iVBORw0KGgoAAAANSUhEUgAAAKAAAAB4CAAAAABQyaazAAAABGdBTUEAALGPC/xhBQAAAAFzUkdCAK7OHOkAAAAgY0hSTQAAeiYAAICEAAD6AAAAgOgAAHUwAADqYAAAOpgAABdwnLpRPAAAAttJREFUeAHNwcFtY+kRBsBqoI8OZvdsLMAXyfjupKxIOIYDmM3o8/54IChpRIoUpZ2uasO14dpwbbj2l/g6hSixlJeCsovXCm249sViiV2cFcoSlLe14doQ8Vw5acO1X6JElPhZea4N1/5mZYklTkqU56Isbbj2N4uTEktZyktl14Zrv0jZlZeiPNeGa79I7OKsBFHO2nBtkKC81IZrwwTlrA3XximxlKUN10YpZ1Fow7WHlCUeUeIkXmvDtQ8ouwhKIT4qrmnDtbuUJc7K0QGFKGfxGdpw7UZliV0523AUpcRSlkI8qg3XblCIXXnLhlgKv/nTN/9BOYmPacO1q8oulnJNOfmhPHnyzePacO2issRSrjs6OCll9+SsxEe04doVsZT3bd5X4n5tuHZF+Szf/MumxL3acO0DGv/0X7d78uRoU+I+bbh2UZSfxXPldpulxD3acO2i8pliV0rcrg3XLopdOTsqcRZLua79W5QlSolbteHaHY4O4mdR3hKXlLhNG669KyjL5uhgKfFclJfaP0T5WRRK3KIN1+6yOTogSrz0mz8t8T9/uKzcow3XbhJlt+HoIEo890PZ/eGaKFEK8Z42XLtRUHabJZ6L3TfvKZQlCnFNG67dISgn3x0sJU6ODkpcUgjK8l1QiEvacO1OUXYbgihRgs3RW8oSsZTdhqMoJd7Whmt3C8quHB0EcRIlzgqxK69tjoISb2nDtQ+Jstu89t2uLBFLuWTD0SVtuPZBUd6yOaIQJ+U9m0vacO3DgnJJUG4Tl7Xh2kOivLZZyi3ih99d04ZrD4pduV/wu+vacO2TRLld3KoN1z5NlFvEPdpw7RNFuSbu14Zrnyoor8XHteHap4vyXDyiDde+QFB28Zg2XPsiQXlcG659sRKPaMO1LxTfHTymDde+1MGj2nBtuDZcG64N14Zrw7Xh2nBtuDZcG64N14Zrw7Xh2nDtL2WuNlwbrg33f+3hro7xtUTiAAAAAElFTkSuQmCC\">"
      ],
      "text/plain": [
       "60×80 Array{Gray{Float64},2} with eltype Gray{Float64}:\n",
       " Gray{Float64}(0.0)  Gray{Float64}(0.0)  …  Gray{Float64}(0.0)\n",
       " Gray{Float64}(0.0)  Gray{Float64}(0.0)     Gray{Float64}(0.0)\n",
       " Gray{Float64}(0.0)  Gray{Float64}(0.0)     Gray{Float64}(0.0)\n",
       " Gray{Float64}(0.0)  Gray{Float64}(0.0)     Gray{Float64}(0.0)\n",
       " Gray{Float64}(0.0)  Gray{Float64}(0.0)     Gray{Float64}(0.0)\n",
       " Gray{Float64}(0.0)  Gray{Float64}(0.0)  …  Gray{Float64}(0.0)\n",
       " Gray{Float64}(0.0)  Gray{Float64}(0.0)     Gray{Float64}(0.0)\n",
       " Gray{Float64}(0.0)  Gray{Float64}(0.0)     Gray{Float64}(0.0)\n",
       " Gray{Float64}(0.0)  Gray{Float64}(0.0)     Gray{Float64}(0.0)\n",
       " Gray{Float64}(0.0)  Gray{Float64}(0.0)     Gray{Float64}(0.0)\n",
       " Gray{Float64}(0.0)  Gray{Float64}(0.0)  …  Gray{Float64}(0.0)\n",
       " Gray{Float64}(0.0)  Gray{Float64}(0.0)     Gray{Float64}(0.0)\n",
       " Gray{Float64}(0.0)  Gray{Float64}(0.0)     Gray{Float64}(0.0)\n",
       " ⋮                                       ⋱  \n",
       " Gray{Float64}(0.0)  Gray{Float64}(0.0)     Gray{Float64}(0.0)\n",
       " Gray{Float64}(0.0)  Gray{Float64}(0.0)     Gray{Float64}(0.0)\n",
       " Gray{Float64}(0.0)  Gray{Float64}(0.0)  …  Gray{Float64}(0.0)\n",
       " Gray{Float64}(0.0)  Gray{Float64}(0.0)     Gray{Float64}(0.0)\n",
       " Gray{Float64}(0.0)  Gray{Float64}(0.0)     Gray{Float64}(0.0)\n",
       " Gray{Float64}(0.0)  Gray{Float64}(0.0)     Gray{Float64}(0.0)\n",
       " Gray{Float64}(0.0)  Gray{Float64}(0.0)     Gray{Float64}(0.0)\n",
       " Gray{Float64}(0.0)  Gray{Float64}(0.0)  …  Gray{Float64}(0.0)\n",
       " Gray{Float64}(0.0)  Gray{Float64}(0.0)     Gray{Float64}(0.0)\n",
       " Gray{Float64}(0.0)  Gray{Float64}(0.0)     Gray{Float64}(0.0)\n",
       " Gray{Float64}(0.0)  Gray{Float64}(0.0)     Gray{Float64}(0.0)\n",
       " Gray{Float64}(0.0)  Gray{Float64}(0.0)     Gray{Float64}(0.0)"
      ]
     },
     "metadata": {},
     "output_type": "display_data"
    },
    {
     "name": "stdout",
     "output_type": "stream",
     "text": [
      "Census transform with epsilon = 0.5\n"
     ]
    }
   ],
   "source": [
    "# normalize the census transform image to the range 0..255 and convert it to image\n",
    "img_census1 = Gray.((img_census1 .- minimum(img_census1)) ./ (maximum(img_census1) - minimum(img_census1)) .* 255)\n",
    "img_census2 = Gray.((img_census2 .- minimum(img_census2)) ./ (maximum(img_census2) - minimum(img_census2)) .* 255)\n",
    "img_census3 = Gray.((img_census3 .- minimum(img_census3)) ./ (maximum(img_census3) - minimum(img_census3)) .* 255)\n",
    "\n",
    "display(img_census1)\n",
    "println(\"Census transform with epsilon = 0.01\")\n",
    "display(img_census2)\n",
    "println(\"Census transform with epsilon = 0.1\")\n",
    "display(img_census3)\n",
    "println(\"Census transform with epsilon = 0.5\")"
   ]
  },
  {
   "cell_type": "code",
   "execution_count": null,
   "metadata": {},
   "outputs": [],
   "source": []
  }
 ],
 "metadata": {
  "kernelspec": {
   "display_name": "Julia 1.8.2",
   "language": "julia",
   "name": "julia-1.8"
  },
  "language_info": {
   "file_extension": ".jl",
   "mimetype": "application/julia",
   "name": "julia",
   "version": "1.8.2"
  },
  "orig_nbformat": 4
 },
 "nbformat": 4,
 "nbformat_minor": 2
}
